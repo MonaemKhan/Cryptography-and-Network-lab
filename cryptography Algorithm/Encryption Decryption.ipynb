{
 "cells": [
  {
   "cell_type": "code",
   "execution_count": 10,
   "id": "d492c053",
   "metadata": {},
   "outputs": [
    {
     "data": {
      "text/plain": [
       "97"
      ]
     },
     "execution_count": 10,
     "metadata": {},
     "output_type": "execute_result"
    }
   ],
   "source": [
    "ord('a')"
   ]
  },
  {
   "cell_type": "code",
   "execution_count": 11,
   "id": "c0286e1d",
   "metadata": {},
   "outputs": [
    {
     "data": {
      "text/plain": [
       "122"
      ]
     },
     "execution_count": 11,
     "metadata": {},
     "output_type": "execute_result"
    }
   ],
   "source": [
    "ord('z')"
   ]
  },
  {
   "cell_type": "code",
   "execution_count": 12,
   "id": "cd149b4c",
   "metadata": {},
   "outputs": [
    {
     "data": {
      "text/plain": [
       "65"
      ]
     },
     "execution_count": 12,
     "metadata": {},
     "output_type": "execute_result"
    }
   ],
   "source": [
    "ord('A')"
   ]
  },
  {
   "cell_type": "code",
   "execution_count": 13,
   "id": "c22e493b",
   "metadata": {},
   "outputs": [
    {
     "data": {
      "text/plain": [
       "90"
      ]
     },
     "execution_count": 13,
     "metadata": {},
     "output_type": "execute_result"
    }
   ],
   "source": [
    "ord('Z')"
   ]
  },
  {
   "cell_type": "code",
   "execution_count": 20,
   "id": "2599fd19",
   "metadata": {},
   "outputs": [
    {
     "data": {
      "text/plain": [
       "22"
      ]
     },
     "execution_count": 20,
     "metadata": {},
     "output_type": "execute_result"
    }
   ],
   "source": [
    "str = 'My name is Monaem Khan'\n",
    "len(str.strip())"
   ]
  },
  {
   "cell_type": "code",
   "execution_count": 15,
   "id": "a821597e",
   "metadata": {},
   "outputs": [
    {
     "data": {
      "text/plain": [
       "22"
      ]
     },
     "execution_count": 15,
     "metadata": {},
     "output_type": "execute_result"
    }
   ],
   "source": [
    "str_array = list(str)\n",
    "len(str_array)"
   ]
  },
  {
   "cell_type": "code",
   "execution_count": 167,
   "id": "55fe21e5",
   "metadata": {},
   "outputs": [],
   "source": [
    "#convert string to array and remove whitespaces\n",
    "def convert_into_array(str):\n",
    "    array = []\n",
    "    for x in str:\n",
    "        if(x != ' '):\n",
    "            array.append(ord(x))\n",
    "    return array"
   ]
  },
  {
   "cell_type": "code",
   "execution_count": 168,
   "id": "bdbaf242",
   "metadata": {},
   "outputs": [
    {
     "data": {
      "text/plain": [
       "[77,\n",
       " 121,\n",
       " 110,\n",
       " 97,\n",
       " 109,\n",
       " 101,\n",
       " 105,\n",
       " 115,\n",
       " 77,\n",
       " 111,\n",
       " 110,\n",
       " 97,\n",
       " 101,\n",
       " 109,\n",
       " 75,\n",
       " 104,\n",
       " 97,\n",
       " 110]"
      ]
     },
     "execution_count": 168,
     "metadata": {},
     "output_type": "execute_result"
    }
   ],
   "source": [
    "convert_into_array(str)"
   ]
  },
  {
   "cell_type": "code",
   "execution_count": 169,
   "id": "2bfdb5b3",
   "metadata": {},
   "outputs": [],
   "source": [
    "def encryption(plain_text,key):\n",
    "    cipher = \"\"\n",
    "    text = convert_into_array(plain_text)\n",
    "    print(text)\n",
    "    for char in text:\n",
    "        if(char>=ord('A') and char<=ord('Z')):\n",
    "            newChar = char+key\n",
    "            if(newChar>ord('Z')):\n",
    "                newChar = ord('A')+(newChar-ord('Z'))-1\n",
    "                cipher = cipher + (chr(newChar))\n",
    "            else:\n",
    "                cipher = cipher + (chr(newChar))\n",
    "\n",
    "        if(char>=ord('a') and char<=ord('z')):\n",
    "            newChar = char+key\n",
    "            if(newChar>ord('z')):\n",
    "                newChar = ord('a')+(newChar-ord('z'))-1\n",
    "                cipher = cipher + (chr(newChar))\n",
    "            else:\n",
    "                cipher = cipher + (chr(newChar))\n",
    "                \n",
    "    return cipher"
   ]
  },
  {
   "cell_type": "code",
   "execution_count": 182,
   "id": "cbd2cfe6",
   "metadata": {},
   "outputs": [
    {
     "name": "stdout",
     "output_type": "stream",
     "text": [
      "[72, 105, 109, 121, 110, 97, 109, 101, 105, 115, 77, 111, 110, 97, 101, 109, 75, 104, 97, 110]\n"
     ]
    },
    {
     "data": {
      "text/plain": [
       "'WxbncpbtxhBdcptbZwpc'"
      ]
     },
     "execution_count": 182,
     "metadata": {},
     "output_type": "execute_result"
    }
   ],
   "source": [
    "cipher_text = encryption(\"Hi my name is Monaem Khan\",15)\n",
    "cipher_text"
   ]
  },
  {
   "cell_type": "code",
   "execution_count": 181,
   "id": "254de8e4",
   "metadata": {},
   "outputs": [
    {
     "data": {
      "text/plain": [
       "'N'"
      ]
     },
     "execution_count": 181,
     "metadata": {},
     "output_type": "execute_result"
    }
   ],
   "source": [
    "chr(78)"
   ]
  },
  {
   "cell_type": "code",
   "execution_count": 172,
   "id": "8a75ed6f",
   "metadata": {},
   "outputs": [
    {
     "data": {
      "text/plain": [
       "False"
      ]
     },
     "execution_count": 172,
     "metadata": {},
     "output_type": "execute_result"
    }
   ],
   "source": [
    "\"z\".isupper()"
   ]
  },
  {
   "cell_type": "code",
   "execution_count": 174,
   "id": "cad2a2f1",
   "metadata": {},
   "outputs": [],
   "source": [
    "def decription(cipher_text,key):\n",
    "    plain = \"\"\n",
    "    text = convert_into_array(cipher_text)\n",
    "    for char in text:\n",
    "        if(char>=ord('A') and char<=ord('Z')):\n",
    "            newChar = char-key\n",
    "            if(newChar<ord('A')):\n",
    "                newChar = ord('Z')-((ord('A')-newChar)-1)\n",
    "                plain = plain + (chr(newChar))\n",
    "            else:\n",
    "                plain = plain + (chr(newChar))\n",
    "        \n",
    "        if(char>=ord('a') and char<=ord('z')):\n",
    "            newChar = char-key\n",
    "            if(newChar<ord('a')):\n",
    "                newChar = ord('z')-((ord('a')-newChar)-1)\n",
    "                plain = plain + (chr(newChar))\n",
    "            else:\n",
    "                plain = plain + (chr(newChar))\n",
    "                \n",
    "    return plain"
   ]
  },
  {
   "cell_type": "code",
   "execution_count": 176,
   "id": "fb02cd9c",
   "metadata": {},
   "outputs": [
    {
     "data": {
      "text/plain": [
       "'HimynameisMonaemKhan'"
      ]
     },
     "execution_count": 176,
     "metadata": {},
     "output_type": "execute_result"
    }
   ],
   "source": [
    "decription(cipher_text,3)"
   ]
  },
  {
   "cell_type": "code",
   "execution_count": null,
   "id": "a3119a70",
   "metadata": {},
   "outputs": [],
   "source": []
  }
 ],
 "metadata": {
  "kernelspec": {
   "display_name": "Python 3 (ipykernel)",
   "language": "python",
   "name": "python3"
  },
  "language_info": {
   "codemirror_mode": {
    "name": "ipython",
    "version": 3
   },
   "file_extension": ".py",
   "mimetype": "text/x-python",
   "name": "python",
   "nbconvert_exporter": "python",
   "pygments_lexer": "ipython3",
   "version": "3.9.12"
  }
 },
 "nbformat": 4,
 "nbformat_minor": 5
}
