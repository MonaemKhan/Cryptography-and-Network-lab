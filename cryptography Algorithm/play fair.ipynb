{
 "cells": [
  {
   "cell_type": "code",
   "execution_count": 1,
   "id": "b9ae895b",
   "metadata": {},
   "outputs": [],
   "source": [
    "key = 'monarchy'"
   ]
  },
  {
   "cell_type": "code",
   "execution_count": 2,
   "id": "cbf536fa",
   "metadata": {},
   "outputs": [],
   "source": [
    "import numpy as np"
   ]
  },
  {
   "cell_type": "code",
   "execution_count": 3,
   "id": "344dd034",
   "metadata": {},
   "outputs": [
    {
     "data": {
      "text/plain": [
       "list"
      ]
     },
     "execution_count": 3,
     "metadata": {},
     "output_type": "execute_result"
    }
   ],
   "source": [
    "key_array = ['@','@','@','@','@','@','@','@','@','@','@','@','@','@','@','@','@','@','@','@','@','@','@','@','@']\n",
    "type(key_array)"
   ]
  },
  {
   "cell_type": "code",
   "execution_count": 4,
   "id": "2fb75a82",
   "metadata": {},
   "outputs": [],
   "source": [
    "def insert_key(key):\n",
    "    key_array = ['@','@','@','@','@','@','@','@','@','@','@','@','@','@','@','@','@','@','@','@','@','@','@','@','@']\n",
    "    index = 0\n",
    "    for x in key:\n",
    "        flag = True\n",
    "        for i in key_array:\n",
    "            if x==i:\n",
    "                flag = False\n",
    "        if flag:\n",
    "            key_array[index] = str(x)\n",
    "            index = index+1\n",
    "    return key_array,index"
   ]
  },
  {
   "cell_type": "code",
   "execution_count": 5,
   "id": "7920a2cb",
   "metadata": {},
   "outputs": [
    {
     "data": {
      "text/plain": [
       "8"
      ]
     },
     "execution_count": 5,
     "metadata": {},
     "output_type": "execute_result"
    }
   ],
   "source": [
    "dia , index = insert_key(key)\n",
    "index"
   ]
  },
  {
   "cell_type": "code",
   "execution_count": 6,
   "id": "c3e324cc",
   "metadata": {},
   "outputs": [
    {
     "name": "stdout",
     "output_type": "stream",
     "text": [
      "Index =  8\n",
      "a\n",
      "b\n",
      "c\n",
      "d\n",
      "e\n",
      "f\n",
      "g\n",
      "h\n",
      "i\n",
      "j\n",
      "k\n",
      "l\n",
      "m\n",
      "n\n",
      "o\n",
      "p\n",
      "q\n",
      "r\n",
      "s\n",
      "t\n",
      "u\n",
      "v\n",
      "w\n",
      "x\n",
      "y\n",
      "z\n"
     ]
    },
    {
     "data": {
      "text/plain": [
       "['m',\n",
       " 'o',\n",
       " 'n',\n",
       " 'a',\n",
       " 'r',\n",
       " 'c',\n",
       " 'h',\n",
       " 'y',\n",
       " 'b',\n",
       " 'd',\n",
       " 'e',\n",
       " 'f',\n",
       " 'g',\n",
       " 'i',\n",
       " 'k',\n",
       " 'l',\n",
       " 'p',\n",
       " 'q',\n",
       " 's',\n",
       " 't',\n",
       " 'u',\n",
       " 'v',\n",
       " 'w',\n",
       " 'x',\n",
       " 'z']"
      ]
     },
     "execution_count": 6,
     "metadata": {},
     "output_type": "execute_result"
    }
   ],
   "source": [
    "print(\"Index = \",index)\n",
    "for x in range(97,123):\n",
    "    x = chr(x)\n",
    "    print(x)\n",
    "    flag = True\n",
    "    for i in dia:\n",
    "        if x == i:\n",
    "            flag = False\n",
    "    if x == 'j':\n",
    "        flag = False\n",
    "    \n",
    "    if flag:\n",
    "        dia[index] = str(x)\n",
    "        index = index+1\n",
    "dia"
   ]
  },
  {
   "cell_type": "code",
   "execution_count": 7,
   "id": "ce852395",
   "metadata": {},
   "outputs": [],
   "source": [
    "def diagram(array,index):\n",
    "    for x in range(97,123):\n",
    "        x = chr(x)\n",
    "        flag = True\n",
    "        for i in array:\n",
    "            if x == i:\n",
    "                flag = False\n",
    "        if x == 'j':\n",
    "            flag = False\n",
    "\n",
    "        if flag:\n",
    "            array[index] = str(x)\n",
    "            index = index+1\n",
    "    return array"
   ]
  },
  {
   "cell_type": "code",
   "execution_count": 8,
   "id": "36aa14b3",
   "metadata": {},
   "outputs": [
    {
     "data": {
      "text/plain": [
       "['m',\n",
       " 'o',\n",
       " 'n',\n",
       " 'a',\n",
       " 'r',\n",
       " 'c',\n",
       " 'h',\n",
       " 'y',\n",
       " 'b',\n",
       " 'd',\n",
       " 'e',\n",
       " 'f',\n",
       " 'g',\n",
       " 'i',\n",
       " 'k',\n",
       " 'l',\n",
       " 'p',\n",
       " 'q',\n",
       " 's',\n",
       " 't',\n",
       " 'u',\n",
       " 'v',\n",
       " 'w',\n",
       " 'x',\n",
       " 'z']"
      ]
     },
     "execution_count": 8,
     "metadata": {},
     "output_type": "execute_result"
    }
   ],
   "source": [
    "update_diagram = diagram(dia,index)\n",
    "update_diagram"
   ]
  },
  {
   "cell_type": "code",
   "execution_count": 9,
   "id": "3d4ec1e0",
   "metadata": {},
   "outputs": [
    {
     "data": {
      "text/plain": [
       "array([['m', 'o', 'n', 'a', 'r'],\n",
       "       ['c', 'h', 'y', 'b', 'd'],\n",
       "       ['e', 'f', 'g', 'i', 'k'],\n",
       "       ['l', 'p', 'q', 's', 't'],\n",
       "       ['u', 'v', 'w', 'x', 'z']], dtype='<U1')"
      ]
     },
     "execution_count": 9,
     "metadata": {},
     "output_type": "execute_result"
    }
   ],
   "source": [
    "arr = np.array(update_diagram)\n",
    "update_diagram = arr.reshape(5,5)\n",
    "update_diagram"
   ]
  },
  {
   "cell_type": "code",
   "execution_count": 10,
   "id": "79754568",
   "metadata": {},
   "outputs": [
    {
     "data": {
      "text/plain": [
       "1"
      ]
     },
     "execution_count": 10,
     "metadata": {},
     "output_type": "execute_result"
    }
   ],
   "source": [
    "ll = np.where(update_diagram == 'h')\n",
    "row = ll[0][0]\n",
    "row"
   ]
  },
  {
   "cell_type": "code",
   "execution_count": 11,
   "id": "1200e4ff",
   "metadata": {},
   "outputs": [
    {
     "data": {
      "text/plain": [
       "(array([1], dtype=int64), array([1], dtype=int64))"
      ]
     },
     "execution_count": 11,
     "metadata": {},
     "output_type": "execute_result"
    }
   ],
   "source": [
    "ll"
   ]
  },
  {
   "cell_type": "code",
   "execution_count": 12,
   "id": "5c627ff6",
   "metadata": {},
   "outputs": [
    {
     "data": {
      "text/plain": [
       "1"
      ]
     },
     "execution_count": 12,
     "metadata": {},
     "output_type": "execute_result"
    }
   ],
   "source": [
    "col = ll[1][0]\n",
    "col"
   ]
  },
  {
   "cell_type": "code",
   "execution_count": 13,
   "id": "f063b780",
   "metadata": {},
   "outputs": [],
   "source": [
    "plain_text = \"helloe\""
   ]
  },
  {
   "cell_type": "code",
   "execution_count": 14,
   "id": "7390d414",
   "metadata": {},
   "outputs": [
    {
     "data": {
      "text/plain": [
       "['h', 'e', 'l', 'l', 'o', 'e']"
      ]
     },
     "execution_count": 14,
     "metadata": {},
     "output_type": "execute_result"
    }
   ],
   "source": [
    "arr = list(plain_text)\n",
    "arr"
   ]
  },
  {
   "cell_type": "code",
   "execution_count": 15,
   "id": "9b807bfc",
   "metadata": {},
   "outputs": [
    {
     "name": "stdout",
     "output_type": "stream",
     "text": [
      "he\n",
      "helxl\n",
      "helxloe\n"
     ]
    }
   ],
   "source": [
    "text = ''\n",
    "for i in range(0,len(arr),2):\n",
    "    try:\n",
    "        if arr[i] == arr[i+1]:\n",
    "            text = text+arr[i]+'x'+arr[i+1]\n",
    "        else:\n",
    "            text = text+arr[i]+arr[i+1]\n",
    "    except:\n",
    "        text = text+arr[i]\n",
    "    print(text)"
   ]
  },
  {
   "cell_type": "code",
   "execution_count": 16,
   "id": "807e61ac",
   "metadata": {},
   "outputs": [
    {
     "data": {
      "text/plain": [
       "'ll'"
      ]
     },
     "execution_count": 16,
     "metadata": {},
     "output_type": "execute_result"
    }
   ],
   "source": [
    "plain_text[2:4]"
   ]
  },
  {
   "cell_type": "code",
   "execution_count": 17,
   "id": "2938d2b3",
   "metadata": {},
   "outputs": [],
   "source": [
    "def split_text(arr):\n",
    "    text = ''\n",
    "    for i in range(0,len(arr),2):\n",
    "        try:\n",
    "            if arr[i] == arr[i+1]:\n",
    "                text = text+arr[i]+'x'+arr[i+1]\n",
    "            else:\n",
    "                text = text+arr[i]+arr[i+1]\n",
    "        except:\n",
    "            text = text+arr[i]\n",
    "    if len(text)%2 !=0:\n",
    "        text = text+'x'\n",
    "    return text"
   ]
  },
  {
   "cell_type": "code",
   "execution_count": 18,
   "id": "0ee0e5d4",
   "metadata": {},
   "outputs": [
    {
     "data": {
      "text/plain": [
       "'helxloex'"
      ]
     },
     "execution_count": 18,
     "metadata": {},
     "output_type": "execute_result"
    }
   ],
   "source": [
    "msg = split_text(plain_text)\n",
    "msg"
   ]
  },
  {
   "cell_type": "code",
   "execution_count": 19,
   "id": "feb008ca",
   "metadata": {},
   "outputs": [
    {
     "data": {
      "text/plain": [
       "8"
      ]
     },
     "execution_count": 19,
     "metadata": {},
     "output_type": "execute_result"
    }
   ],
   "source": [
    "len(msg)"
   ]
  },
  {
   "cell_type": "code",
   "execution_count": 20,
   "id": "8a1422c5",
   "metadata": {},
   "outputs": [],
   "source": [
    "if len(msg)%2 !=0:\n",
    "    msg = msg+'x'"
   ]
  },
  {
   "cell_type": "code",
   "execution_count": 21,
   "id": "d6268665",
   "metadata": {},
   "outputs": [
    {
     "data": {
      "text/plain": [
       "'helxloex'"
      ]
     },
     "execution_count": 21,
     "metadata": {},
     "output_type": "execute_result"
    }
   ],
   "source": [
    "msg"
   ]
  },
  {
   "cell_type": "code",
   "execution_count": 22,
   "id": "38526a74",
   "metadata": {},
   "outputs": [
    {
     "name": "stdout",
     "output_type": "stream",
     "text": [
      "h   e\n",
      "1   1\n",
      "2   0\n",
      "\n",
      "l   x\n",
      "3   0\n",
      "4   3\n",
      "\n",
      "l   o\n",
      "3   0\n",
      "0   1\n",
      "\n",
      "e   x\n",
      "2   0\n",
      "4   3\n",
      "\n"
     ]
    }
   ],
   "source": [
    "for i in range(0,len(msg),2):\n",
    "    ch1 = msg[i]\n",
    "    ch2 = msg[i+1]\n",
    "    print(ch1,\" \",ch2)\n",
    "    row1 = np.where(update_diagram == ch1)[0][0]\n",
    "    col1 = np.where(update_diagram == ch1)[1][0]\n",
    "    row2 = np.where(update_diagram == ch2)[0][0]\n",
    "    col2 = np.where(update_diagram == ch2)[1][0]\n",
    "    print(row1,\" \",col1)\n",
    "    print(row2,\" \",col2)\n",
    "    print()"
   ]
  },
  {
   "cell_type": "code",
   "execution_count": 23,
   "id": "b781c672",
   "metadata": {},
   "outputs": [
    {
     "data": {
      "text/plain": [
       "'ie'"
      ]
     },
     "execution_count": 23,
     "metadata": {},
     "output_type": "execute_result"
    }
   ],
   "source": [
    "cipher=''\n",
    "row1=2\n",
    "row2=2\n",
    "\n",
    "col1=2\n",
    "col2=4\n",
    "if row1==row2:\n",
    "    if col1+1>4:\n",
    "        ch11 = update_diagram[row1][0]\n",
    "    else:\n",
    "        ch11 = update_diagram[row1][col1+1]\n",
    "        \n",
    "    if col2+1>4:\n",
    "        ch22 = update_diagram[row2][0]\n",
    "    else:\n",
    "        ch22 = update_diagram[row2][col2+1]\n",
    "    \n",
    "    cipher = cipher+ch11+ch22\n",
    "cipher"
   ]
  },
  {
   "cell_type": "code",
   "execution_count": 24,
   "id": "e2fac682",
   "metadata": {},
   "outputs": [
    {
     "data": {
      "text/plain": [
       "'qn'"
      ]
     },
     "execution_count": 24,
     "metadata": {},
     "output_type": "execute_result"
    }
   ],
   "source": [
    "cipher=''\n",
    "row1=2\n",
    "row2=4\n",
    "\n",
    "col1=2\n",
    "col2=2\n",
    "if col1==col2:\n",
    "    if row1+1>4:\n",
    "        ch11 = update_diagram[0][col1]\n",
    "    else:\n",
    "        ch11 = update_diagram[row1+1][col1]\n",
    "        \n",
    "    if row2+1>4:\n",
    "        ch22 = update_diagram[0][col2]\n",
    "    else:\n",
    "        ch22 = update_diagram[row2+1][col2]\n",
    "    \n",
    "    cipher = cipher+ch11+ch22\n",
    "cipher"
   ]
  },
  {
   "cell_type": "code",
   "execution_count": 25,
   "id": "0c4c5798",
   "metadata": {},
   "outputs": [
    {
     "data": {
      "text/plain": [
       "'gv'"
      ]
     },
     "execution_count": 25,
     "metadata": {},
     "output_type": "execute_result"
    }
   ],
   "source": [
    "cipher=''\n",
    "row1=2\n",
    "row2=4\n",
    "\n",
    "col1=1\n",
    "col2=2\n",
    "ch11 = update_diagram[row1][col2]\n",
    "ch22 = update_diagram[row2][col1]\n",
    "cipher = cipher+ch11+ch22\n",
    "cipher"
   ]
  },
  {
   "cell_type": "code",
   "execution_count": 26,
   "id": "4d1248f9",
   "metadata": {},
   "outputs": [],
   "source": [
    "def encryption(msg,diagrams):\n",
    "    cipher=''\n",
    "    for i in range(0,len(msg),2):\n",
    "        ch1 = msg[i]\n",
    "        ch2 = msg[i+1]\n",
    "        row1 = np.where(diagrams == ch1)[0][0]\n",
    "        col1 = np.where(diagrams == ch1)[1][0]\n",
    "        row2 = np.where(diagrams == ch2)[0][0]\n",
    "        col2 = np.where(diagrams == ch2)[1][0]\n",
    "        \n",
    "        if row1==row2:\n",
    "            if col1+1>4:\n",
    "                ch11 = diagrams[row1][0]\n",
    "            else:\n",
    "                ch11 = diagrams[row1][col1+1]\n",
    "\n",
    "            if col2+1>4:\n",
    "                ch22 = diagrams[row2][0]\n",
    "            else:\n",
    "                ch22 = diagrams[row2][col2+1]\n",
    "\n",
    "            cipher = cipher+ch11+ch22\n",
    "            \n",
    "        elif col1==col2:\n",
    "            if row1+1>4:\n",
    "                ch11 = diagrams[0][col1]\n",
    "            else:\n",
    "                ch11 = diagrams[row1+1][col1]\n",
    "\n",
    "            if row2+1>4:\n",
    "                ch22 = diagrams[0][col2]\n",
    "            else:\n",
    "                ch22 = diagrams[row2+1][col2]\n",
    "\n",
    "            cipher = cipher+ch11+ch22\n",
    "            \n",
    "        else:\n",
    "            ch11 = diagrams[row1][col2]\n",
    "            ch22 = diagrams[row2][col1]\n",
    "            cipher = cipher+ch11+ch22\n",
    "    return cipher"
   ]
  },
  {
   "cell_type": "code",
   "execution_count": 27,
   "id": "e5226f56",
   "metadata": {},
   "outputs": [
    {
     "data": {
      "text/plain": [
       "'aaaaaa'"
      ]
     },
     "execution_count": 27,
     "metadata": {},
     "output_type": "execute_result"
    }
   ],
   "source": [
    "encryption('',update_diagram)"
   ]
  },
  {
   "cell_type": "code",
   "execution_count": 28,
   "id": "b09472c0",
   "metadata": {},
   "outputs": [],
   "source": [
    "def decryption(msg,diagrams):\n",
    "    cipher=''\n",
    "    for i in range(0,len(msg),2):\n",
    "        ch1 = msg[i]\n",
    "        ch2 = msg[i+1]\n",
    "        row1 = np.where(diagrams == ch1)[0][0]\n",
    "        col1 = np.where(diagrams == ch1)[1][0]\n",
    "        row2 = np.where(diagrams == ch2)[0][0]\n",
    "        col2 = np.where(diagrams == ch2)[1][0]\n",
    "        \n",
    "        if row1==row2:\n",
    "            if col1-1<0:\n",
    "                ch11 = diagrams[row1][4]\n",
    "            else:\n",
    "                ch11 = diagrams[row1][col1-1]\n",
    "\n",
    "            if col2-1<0:\n",
    "                ch22 = diagrams[row2][4]\n",
    "            else:\n",
    "                ch22 = diagrams[row2][col2-1]\n",
    "\n",
    "            cipher = cipher+ch11+ch22\n",
    "            \n",
    "        elif col1==col2:\n",
    "            if row1-1<0:\n",
    "                ch11 = diagrams[4][col1]\n",
    "            else:\n",
    "                ch11 = diagrams[row1-1][col1]\n",
    "\n",
    "            if row2-1<0:\n",
    "                ch22 = diagrams[4][col2]\n",
    "            else:\n",
    "                ch22 = diagrams[row2-1][col2]\n",
    "\n",
    "            cipher = cipher+ch11+ch22\n",
    "            \n",
    "        else:\n",
    "            ch11 = diagrams[row1][col2]\n",
    "            ch22 = diagrams[row2][col1]\n",
    "            cipher = cipher+ch11+ch22\n",
    "    return cipher"
   ]
  },
  {
   "cell_type": "code",
   "execution_count": 29,
   "id": "4cfa5ac5",
   "metadata": {},
   "outputs": [
    {
     "data": {
      "text/plain": [
       "'helxloex'"
      ]
     },
     "execution_count": 29,
     "metadata": {},
     "output_type": "execute_result"
    }
   ],
   "source": [
    "plain = decryption('cfsupmiu',update_diagram)\n",
    "plain"
   ]
  },
  {
   "cell_type": "code",
   "execution_count": 30,
   "id": "bd5d8a48",
   "metadata": {},
   "outputs": [
    {
     "data": {
      "text/plain": [
       "'helxloe'"
      ]
     },
     "execution_count": 30,
     "metadata": {},
     "output_type": "execute_result"
    }
   ],
   "source": [
    "if plain[-1]=='x':\n",
    "    plain = plain[:-1]\n",
    "plain"
   ]
  },
  {
   "cell_type": "code",
   "execution_count": 31,
   "id": "3ce9c264",
   "metadata": {},
   "outputs": [
    {
     "name": "stdout",
     "output_type": "stream",
     "text": [
      "helxloe\n"
     ]
    },
    {
     "data": {
      "text/plain": [
       "'helloe'"
      ]
     },
     "execution_count": 31,
     "metadata": {},
     "output_type": "execute_result"
    }
   ],
   "source": [
    "text = ''\n",
    "print(plain)\n",
    "for i in range(len(plain)):\n",
    "    if plain[i] == 'x':\n",
    "        if plain[i-1] != plain[i+1]:\n",
    "            text = text+plain[i]\n",
    "    else:\n",
    "        text = text + plain[i]\n",
    "text"
   ]
  },
  {
   "cell_type": "code",
   "execution_count": null,
   "id": "aa9b8646",
   "metadata": {},
   "outputs": [],
   "source": []
  }
 ],
 "metadata": {
  "kernelspec": {
   "display_name": "Python 3 (ipykernel)",
   "language": "python",
   "name": "python3"
  },
  "language_info": {
   "codemirror_mode": {
    "name": "ipython",
    "version": 3
   },
   "file_extension": ".py",
   "mimetype": "text/x-python",
   "name": "python",
   "nbconvert_exporter": "python",
   "pygments_lexer": "ipython3",
   "version": "3.9.12"
  }
 },
 "nbformat": 4,
 "nbformat_minor": 5
}
