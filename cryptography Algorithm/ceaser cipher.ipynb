{
 "cells": [
  {
   "cell_type": "code",
   "execution_count": 1,
   "id": "b30f4f8b",
   "metadata": {},
   "outputs": [
    {
     "data": {
      "text/plain": [
       "'Hi my name is Monaem Khan'"
      ]
     },
     "execution_count": 1,
     "metadata": {},
     "output_type": "execute_result"
    }
   ],
   "source": [
    "plain_text = \"Hi my name is Monaem Khan\"\n",
    "plain_text"
   ]
  },
  {
   "cell_type": "code",
   "execution_count": 21,
   "id": "7eb021ba",
   "metadata": {},
   "outputs": [
    {
     "data": {
      "text/plain": [
       "7"
      ]
     },
     "execution_count": 21,
     "metadata": {},
     "output_type": "execute_result"
    }
   ],
   "source": [
    "char = ord('H')-ord('A')\n",
    "char"
   ]
  },
  {
   "cell_type": "code",
   "execution_count": 22,
   "id": "666a0060",
   "metadata": {},
   "outputs": [
    {
     "name": "stdout",
     "output_type": "stream",
     "text": [
      "74\n"
     ]
    },
    {
     "data": {
      "text/plain": [
       "22"
      ]
     },
     "execution_count": 22,
     "metadata": {},
     "output_type": "execute_result"
    }
   ],
   "source": [
    "key = 67\n",
    "cipher = char+key\n",
    "print(cipher)\n",
    "cipher = cipher%26\n",
    "cipher"
   ]
  },
  {
   "cell_type": "code",
   "execution_count": 23,
   "id": "5a774387",
   "metadata": {},
   "outputs": [
    {
     "data": {
      "text/plain": [
       "'W'"
      ]
     },
     "execution_count": 23,
     "metadata": {},
     "output_type": "execute_result"
    }
   ],
   "source": [
    "chr(cipher + ord('A'))"
   ]
  },
  {
   "cell_type": "code",
   "execution_count": 5,
   "id": "12e024c1",
   "metadata": {},
   "outputs": [],
   "source": [
    "def encryption(plain_text,key):\n",
    "    cipher = ''\n",
    "    for x in plain_text:\n",
    "        if(x.isupper()):\n",
    "            char = ord(x)-ord('A')\n",
    "            newChar = (char+key)%26\n",
    "            cipher = cipher+chr(newChar + ord('A'))\n",
    "        \n",
    "        if(x.islower()):\n",
    "            char = ord(x)-ord('a')\n",
    "            newChar = (char+key)%26\n",
    "            cipher = cipher+chr(newChar + ord('a'))\n",
    "\n",
    "    return cipher"
   ]
  },
  {
   "cell_type": "code",
   "execution_count": 6,
   "id": "bc8aa9b8",
   "metadata": {},
   "outputs": [
    {
     "data": {
      "text/plain": [
       "'WxbncpbtxhBdcptbZwpc'"
      ]
     },
     "execution_count": 6,
     "metadata": {},
     "output_type": "execute_result"
    }
   ],
   "source": [
    "cipher_text = encryption(plain_text,67)\n",
    "cipher_text"
   ]
  },
  {
   "cell_type": "code",
   "execution_count": 7,
   "id": "215a7829",
   "metadata": {},
   "outputs": [
    {
     "data": {
      "text/plain": [
       "True"
      ]
     },
     "execution_count": 7,
     "metadata": {},
     "output_type": "execute_result"
    }
   ],
   "source": [
    "cipher_text == 'WxbncpbtxhBdcptbZwpc'"
   ]
  },
  {
   "cell_type": "code",
   "execution_count": null,
   "id": "4e7b578d",
   "metadata": {},
   "outputs": [],
   "source": []
  },
  {
   "cell_type": "code",
   "execution_count": 8,
   "id": "d396c186",
   "metadata": {},
   "outputs": [
    {
     "data": {
      "text/plain": [
       "22"
      ]
     },
     "execution_count": 8,
     "metadata": {},
     "output_type": "execute_result"
    }
   ],
   "source": [
    "char = ord('W')-ord('A')\n",
    "char"
   ]
  },
  {
   "cell_type": "code",
   "execution_count": 9,
   "id": "86a4b5a1",
   "metadata": {},
   "outputs": [
    {
     "name": "stdout",
     "output_type": "stream",
     "text": [
      "-45\n"
     ]
    },
    {
     "data": {
      "text/plain": [
       "7"
      ]
     },
     "execution_count": 9,
     "metadata": {},
     "output_type": "execute_result"
    }
   ],
   "source": [
    "key = 67\n",
    "cipher = (char-key)\n",
    "print(cipher)\n",
    "cipher = cipher%26\n",
    "cipher"
   ]
  },
  {
   "cell_type": "code",
   "execution_count": 10,
   "id": "4d415608",
   "metadata": {},
   "outputs": [
    {
     "data": {
      "text/plain": [
       "'H'"
      ]
     },
     "execution_count": 10,
     "metadata": {},
     "output_type": "execute_result"
    }
   ],
   "source": [
    "chr(cipher + ord('A'))"
   ]
  },
  {
   "cell_type": "code",
   "execution_count": 11,
   "id": "784ef59c",
   "metadata": {},
   "outputs": [
    {
     "data": {
      "text/plain": [
       "7"
      ]
     },
     "execution_count": 11,
     "metadata": {},
     "output_type": "execute_result"
    }
   ],
   "source": [
    "-45%26"
   ]
  },
  {
   "cell_type": "code",
   "execution_count": 12,
   "id": "64ee18da",
   "metadata": {},
   "outputs": [],
   "source": [
    "def decryption(cipher_text,key):\n",
    "    plain = ''\n",
    "    for x in cipher_text:\n",
    "        if(x.isupper()):\n",
    "            char = ord(x)-ord('A')\n",
    "            newChar = (char-key)%26\n",
    "            plain = plain+chr(newChar + ord('A'))\n",
    "        \n",
    "        if(x.islower()):\n",
    "            char = ord(x)-ord('a')\n",
    "            newChar = (char-key)%26\n",
    "            plain = plain+chr(newChar + ord('a'))\n",
    "\n",
    "    return plain"
   ]
  },
  {
   "cell_type": "code",
   "execution_count": 13,
   "id": "192d8eb5",
   "metadata": {},
   "outputs": [
    {
     "data": {
      "text/plain": [
       "'HimynameisMonaemKhan'"
      ]
     },
     "execution_count": 13,
     "metadata": {},
     "output_type": "execute_result"
    }
   ],
   "source": [
    "decryption(cipher_text,67)"
   ]
  },
  {
   "cell_type": "code",
   "execution_count": 14,
   "id": "fff526e7",
   "metadata": {},
   "outputs": [],
   "source": [
    "# decission = True\n",
    "# while(decission):\n",
    "#     print('What Do You Want?\\n1. Encrypt a msg \\n2. Decrypt a msg')\n",
    "#     choise = int(input())\n",
    "    \n",
    "#     while(choise>2):\n",
    "#         print('........Warning!!!!!!')\n",
    "#         print(\"Please!!! Enter number between 1 and 2\")\n",
    "#         choise = int(input())\n",
    "    \n",
    "#     if(choise == 1):\n",
    "#         print(\"Encryption ->\")\n",
    "#         msg = input(\"Message : \")\n",
    "#         key = int(input(\"Key : \"))\n",
    "#         print(encryption(msg,key))\n",
    "#     else:\n",
    "#         print(\"Decryption ->\")\n",
    "#         msg = input(\"Message : \")\n",
    "#         key = int(input(\"Key : \"))\n",
    "#         print(decryption(msg,key))\n",
    "        \n",
    "#     popup = input(\"Do you want to continue?(y/n)\")\n",
    "#     popup = popup.lower()\n",
    "#     while(popup !='y' and popup != 'n'):\n",
    "#         popup = input(\"Do you want to continue?(y/n)\")\n",
    "#         popup = popup.lower()\n",
    "    \n",
    "#     if(popup=='y'):\n",
    "#         decission = True\n",
    "#     else:\n",
    "#         decission = False\n",
    "        \n",
    "# Print(\"Thank You\")"
   ]
  },
  {
   "cell_type": "code",
   "execution_count": 15,
   "id": "6dada7d1",
   "metadata": {},
   "outputs": [
    {
     "data": {
      "text/plain": [
       "'z'"
      ]
     },
     "execution_count": 15,
     "metadata": {},
     "output_type": "execute_result"
    }
   ],
   "source": [
    "\"Z\".lower()"
   ]
  },
  {
   "cell_type": "code",
   "execution_count": null,
   "id": "1514bcbf",
   "metadata": {},
   "outputs": [],
   "source": []
  }
 ],
 "metadata": {
  "kernelspec": {
   "display_name": "Python 3 (ipykernel)",
   "language": "python",
   "name": "python3"
  },
  "language_info": {
   "codemirror_mode": {
    "name": "ipython",
    "version": 3
   },
   "file_extension": ".py",
   "mimetype": "text/x-python",
   "name": "python",
   "nbconvert_exporter": "python",
   "pygments_lexer": "ipython3",
   "version": "3.9.12"
  }
 },
 "nbformat": 4,
 "nbformat_minor": 5
}
