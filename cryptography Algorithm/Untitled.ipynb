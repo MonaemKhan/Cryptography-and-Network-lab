{
 "cells": [
  {
   "cell_type": "code",
   "execution_count": 4,
   "id": "c56b0d36",
   "metadata": {},
   "outputs": [
    {
     "data": {
      "text/plain": [
       "120"
      ]
     },
     "execution_count": 4,
     "metadata": {},
     "output_type": "execute_result"
    }
   ],
   "source": [
    "def per(n):\n",
    "    if n <= 1:\n",
    "        return 1\n",
    "    else:\n",
    "        return n*per(n-1)\n",
    "per(5)"
   ]
  },
  {
   "cell_type": "code",
   "execution_count": 40,
   "id": "4ac0b3d7",
   "metadata": {},
   "outputs": [
    {
     "data": {
      "text/plain": [
       "True"
      ]
     },
     "execution_count": 40,
     "metadata": {},
     "output_type": "execute_result"
    }
   ],
   "source": [
    "def isprime(n):\n",
    "    if n<=1:\n",
    "        return False\n",
    "    elif n<=3:\n",
    "        return True\n",
    "    else:\n",
    "        flag = False\n",
    "        for i in range(2,int(n/2)+1):\n",
    "            if n%i==0:\n",
    "                flag = False\n",
    "                break\n",
    "            else:\n",
    "                flag = True\n",
    "        return flag\n",
    "isprime(3)"
   ]
  },
  {
   "cell_type": "code",
   "execution_count": 41,
   "id": "4100b49d",
   "metadata": {},
   "outputs": [
    {
     "name": "stdout",
     "output_type": "stream",
     "text": [
      "2\n",
      "3\n",
      "5\n",
      "7\n",
      "11\n",
      "13\n",
      "17\n",
      "19\n",
      "23\n",
      "29\n",
      "31\n",
      "37\n",
      "41\n",
      "43\n",
      "47\n",
      "53\n",
      "59\n",
      "61\n",
      "67\n",
      "71\n",
      "73\n",
      "79\n",
      "83\n",
      "89\n",
      "97\n"
     ]
    },
    {
     "data": {
      "text/plain": [
       "25"
      ]
     },
     "execution_count": 41,
     "metadata": {},
     "output_type": "execute_result"
    }
   ],
   "source": [
    "count = 0\n",
    "for i in range(100):\n",
    "    if isprime(i):\n",
    "        print(i)\n",
    "        count = count+1\n",
    "count"
   ]
  },
  {
   "cell_type": "code",
   "execution_count": 44,
   "id": "56a8992e",
   "metadata": {},
   "outputs": [
    {
     "name": "stdout",
     "output_type": "stream",
     "text": [
      "6\n"
     ]
    }
   ],
   "source": [
    "num = int (input())\n",
    "if isprime(num):\n",
    "    print(per(num))"
   ]
  },
  {
   "cell_type": "code",
   "execution_count": 45,
   "id": "8f2a5415",
   "metadata": {},
   "outputs": [],
   "source": [
    "def feb(n):\n",
    "    if n==0:\n",
    "        print(0)\n",
    "    elif n == 1:\n",
    "        print(0)\n",
    "        print(1)\n",
    "    else:\n",
    "        n1 = 0\n",
    "        n2 = 1\n",
    "        print(n1)\n",
    "        print(n2)\n",
    "        for i in range(1,n,1):\n",
    "            n_new = n1+n2\n",
    "            print(n_new)\n",
    "            n1 = n2\n",
    "            n2 = n_new"
   ]
  },
  {
   "cell_type": "code",
   "execution_count": 48,
   "id": "04211e2e",
   "metadata": {},
   "outputs": [
    {
     "name": "stdout",
     "output_type": "stream",
     "text": [
      "0\n",
      "1\n",
      "1\n",
      "2\n",
      "3\n",
      "5\n",
      "8\n",
      "13\n",
      "21\n",
      "34\n",
      "55\n"
     ]
    }
   ],
   "source": [
    "feb(10)"
   ]
  },
  {
   "cell_type": "code",
   "execution_count": 63,
   "id": "808cf894",
   "metadata": {},
   "outputs": [],
   "source": [
    "def multiplicative_inverse(n,modulas):\n",
    "    for i in range(1,int(modulas/2)+1,1):\n",
    "        mod = (i*n)%modulas\n",
    "        if mod == 1:\n",
    "            return i\n",
    "    if i == n:\n",
    "        return -1"
   ]
  },
  {
   "cell_type": "code",
   "execution_count": 64,
   "id": "aaac8c15",
   "metadata": {},
   "outputs": [
    {
     "name": "stdout",
     "output_type": "stream",
     "text": [
      "Enter multiplicative inverse Number : 14\n",
      "Enter Modulas Number : 392\n",
      "None\n"
     ]
    }
   ],
   "source": [
    "n = int (input(\"Enter multiplicative inverse Number : \"))\n",
    "modulas = int (input(\"Enter Modulas Number : \"))\n",
    "\n",
    "result = multiplicative_inverse(n,modulas)\n",
    "\n",
    "if result==-1:\n",
    "    print('Multiplivcative Inverse is not possible')\n",
    "else:\n",
    "    print (result)"
   ]
  },
  {
   "cell_type": "code",
   "execution_count": null,
   "id": "cb08a7ab",
   "metadata": {},
   "outputs": [],
   "source": []
  }
 ],
 "metadata": {
  "kernelspec": {
   "display_name": "Python 3 (ipykernel)",
   "language": "python",
   "name": "python3"
  },
  "language_info": {
   "codemirror_mode": {
    "name": "ipython",
    "version": 3
   },
   "file_extension": ".py",
   "mimetype": "text/x-python",
   "name": "python",
   "nbconvert_exporter": "python",
   "pygments_lexer": "ipython3",
   "version": "3.9.12"
  }
 },
 "nbformat": 4,
 "nbformat_minor": 5
}
