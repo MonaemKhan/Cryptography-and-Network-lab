{
 "cells": [
  {
   "cell_type": "code",
   "execution_count": 1,
   "id": "5c8f762f",
   "metadata": {},
   "outputs": [],
   "source": [
    "def key_gerator(phi_n):\n",
    "    while(True):\n",
    "        e = random.randint(1,phi_n)\n",
    "        if isPrime(e):\n",
    "            d = multiplicative_inverse(e,phi_n)\n",
    "            if d!=e:\n",
    "                break\n",
    "    return e,d\n",
    "\n",
    "def isPrime(n):\n",
    "    if(n==1 or n==0):\n",
    "        return False\n",
    "    for i in range(2,int(n**(1/2))+1):\n",
    "        if(n%i==0):\n",
    "            return False\n",
    "    return True\n",
    "\n",
    "def multiplicative_inverse(e,phi_n):\n",
    "    for i in range(1,e+1):\n",
    "        mod = (i*e)%phi_n\n",
    "        if mod == 1:\n",
    "            break\n",
    "    return i"
   ]
  },
  {
   "cell_type": "code",
   "execution_count": 2,
   "id": "8f115b05",
   "metadata": {},
   "outputs": [
    {
     "data": {
      "text/plain": [
       "(17, 13)"
      ]
     },
     "execution_count": 2,
     "metadata": {},
     "output_type": "execute_result"
    }
   ],
   "source": [
    "import random\n",
    "key_gerator(20)"
   ]
  },
  {
   "cell_type": "code",
   "execution_count": 22,
   "id": "bcf2e787",
   "metadata": {},
   "outputs": [
    {
     "name": "stdout",
     "output_type": "stream",
     "text": [
      "Enter two prime number p & q such that their product will grater than your total alphabet size\n",
      "Enter Total Alphabate Size : 26\n",
      "Enter a prime number p : 5\n",
      "Enter a prime number q : 2\n",
      "your input prime number are less than your alphabet size\n",
      "Enter a prime number p : 5\n",
      "Enter a prime number q : 2\n",
      "your input prime number are less than your alphabet size\n",
      "Enter a prime number p : 11\n",
      "Enter a prime number q : 3\n"
     ]
    }
   ],
   "source": [
    "print('Enter two prime number p & q such that their product will grater than your total alphabet size')\n",
    "size = int (input('Enter Total Alphabate Size : '))\n",
    "\n",
    "while(True):\n",
    "    while(True):\n",
    "        p = int (input('Enter a prime number p : '))\n",
    "        if isPrime(p):\n",
    "            break\n",
    "        else:\n",
    "            print('Not a prime Number')\n",
    "\n",
    "    while(True):\n",
    "        q = int (input('Enter a prime number q : '))\n",
    "        if p == q:\n",
    "            print('Both can not be same')\n",
    "        elif isPrime(q):\n",
    "            break\n",
    "        else:\n",
    "            print('Not a prime Number')\n",
    "    n = p*q\n",
    "    if n>size:\n",
    "        break\n",
    "    else:\n",
    "        print('your input prime numbers are less than your alphabet size')\n",
    "    \n",
    "\n",
    "phi_n = (p-1)*(q-1)"
   ]
  },
  {
   "cell_type": "code",
   "execution_count": 4,
   "id": "ee78ebc5",
   "metadata": {},
   "outputs": [
    {
     "name": "stdout",
     "output_type": "stream",
     "text": [
      "p=11\n",
      "q=3\n",
      "n=33\n",
      "phi_n=20\n"
     ]
    }
   ],
   "source": [
    "print('p='+ str(p))\n",
    "print('q='+ str(q))\n",
    "print('n='+ str(n))\n",
    "print('phi_n='+ str(phi_n))"
   ]
  },
  {
   "cell_type": "code",
   "execution_count": 9,
   "id": "34c56f2c",
   "metadata": {},
   "outputs": [],
   "source": [
    "public_key, private_key = key_gerator(phi_n)"
   ]
  },
  {
   "cell_type": "code",
   "execution_count": 24,
   "id": "4cb0ba02",
   "metadata": {},
   "outputs": [
    {
     "name": "stdout",
     "output_type": "stream",
     "text": [
      "{'p': 11, 'q': 3, 'n': 33, 'phi_n': 20, 'public_key': 17, 'private_key': 13}\n"
     ]
    }
   ],
   "source": [
    "info = {\n",
    "    'p':p,\n",
    "    'q':q,\n",
    "    'n':n,\n",
    "    'phi_n':phi_n,\n",
    "    'public_key': public_key,\n",
    "    'private_key': private_key\n",
    "}\n",
    "print(info)"
   ]
  },
  {
   "cell_type": "code",
   "execution_count": 25,
   "id": "b47523e3",
   "metadata": {},
   "outputs": [
    {
     "data": {
      "text/plain": [
       "11"
      ]
     },
     "execution_count": 25,
     "metadata": {},
     "output_type": "execute_result"
    }
   ],
   "source": [
    "info['p']"
   ]
  },
  {
   "cell_type": "code",
   "execution_count": 16,
   "id": "849f7177",
   "metadata": {},
   "outputs": [],
   "source": [
    "plain_text = \"Monaem\"\n",
    "plain_text = plain_text.lower()"
   ]
  },
  {
   "cell_type": "code",
   "execution_count": 18,
   "id": "6e7c270f",
   "metadata": {},
   "outputs": [
    {
     "name": "stdout",
     "output_type": "stream",
     "text": [
      "muhaqm\n"
     ]
    }
   ],
   "source": [
    "def encrypt(msg,key,n):\n",
    "    up_msg = msg**key%n\n",
    "    return up_msg\n",
    "\n",
    "chipher = ''\n",
    "for char in plain_text:\n",
    "    msg = ord(char)-97\n",
    "    chipher_char = encrypt(msg,public_key,n)\n",
    "    chipher = chipher + chr(chipher_char+97)\n",
    "print(chipher)"
   ]
  },
  {
   "cell_type": "code",
   "execution_count": 19,
   "id": "d727a8e4",
   "metadata": {},
   "outputs": [
    {
     "name": "stdout",
     "output_type": "stream",
     "text": [
      "monaem\n"
     ]
    }
   ],
   "source": [
    "cipher_text = 'muhaqm'\n",
    "def decrypt(msg,key,n):\n",
    "    up_msg = msg**key%n\n",
    "    return up_msg\n",
    "\n",
    "plain = ''\n",
    "for char in cipher_text:\n",
    "    msg = ord(char)-97\n",
    "    plain_char = decrypt(msg,private_key,n)\n",
    "    plain = plain + chr(plain_char+97)\n",
    "print(plain)"
   ]
  },
  {
   "cell_type": "code",
   "execution_count": null,
   "id": "2b7ad491",
   "metadata": {},
   "outputs": [],
   "source": []
  }
 ],
 "metadata": {
  "kernelspec": {
   "display_name": "Python 3 (ipykernel)",
   "language": "python",
   "name": "python3"
  },
  "language_info": {
   "codemirror_mode": {
    "name": "ipython",
    "version": 3
   },
   "file_extension": ".py",
   "mimetype": "text/x-python",
   "name": "python",
   "nbconvert_exporter": "python",
   "pygments_lexer": "ipython3",
   "version": "3.9.12"
  }
 },
 "nbformat": 4,
 "nbformat_minor": 5
}
