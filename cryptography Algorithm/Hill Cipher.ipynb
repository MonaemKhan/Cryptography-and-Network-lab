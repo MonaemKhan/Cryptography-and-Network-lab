{
 "cells": [
  {
   "cell_type": "code",
   "execution_count": 117,
   "id": "dfa0fcf3",
   "metadata": {},
   "outputs": [
    {
     "data": {
      "text/plain": [
       "[[12, 14, 13], [0, 4, 12], [10, 7, 0]]"
      ]
     },
     "execution_count": 117,
     "metadata": {},
     "output_type": "execute_result"
    }
   ],
   "source": [
    "import numpy as np\n",
    "arr = [[12, 14, 13],[ 0,  4, 12],[10,  7,  0]]\n",
    "arr"
   ]
  },
  {
   "cell_type": "code",
   "execution_count": 118,
   "id": "7e45935a",
   "metadata": {},
   "outputs": [
    {
     "data": {
      "text/plain": [
       "22"
      ]
     },
     "execution_count": 118,
     "metadata": {},
     "output_type": "execute_result"
    }
   ],
   "source": [
    "def multiplicative_inverse(e):\n",
    "    for i in range(1,e+1):\n",
    "        mod = (i*e)%26\n",
    "        if mod == 1:\n",
    "            break\n",
    "    return i\n",
    "det = np.linalg.det(arr)\n",
    "inv = multiplicative_inverse(int(det)%26)\n",
    "inv"
   ]
  },
  {
   "cell_type": "code",
   "execution_count": 119,
   "id": "841d7c8f",
   "metadata": {},
   "outputs": [
    {
     "data": {
      "text/plain": [
       "array([[ -84.,   91.,  116.],\n",
       "       [ 120., -130., -144.],\n",
       "       [ -40.,   56.,   48.]])"
      ]
     },
     "execution_count": 119,
     "metadata": {},
     "output_type": "execute_result"
    }
   ],
   "source": [
    "cof = np.linalg.inv(arr) * det\n",
    "cof  = np.rint(cof)\n",
    "# cof = cof.astype(int)%26\n",
    "cof"
   ]
  },
  {
   "cell_type": "code",
   "execution_count": 115,
   "id": "98a4dca1",
   "metadata": {},
   "outputs": [],
   "source": [
    "A_inverse = (inv*cof)%26"
   ]
  },
  {
   "cell_type": "code",
   "execution_count": 34,
   "id": "a99000d8",
   "metadata": {},
   "outputs": [],
   "source": [
    "def find_inverse(arr):\n",
    "    det = np.linalg.det(arr)\n",
    "    inv = multiplicative_inverse(int(det)%26)\n",
    "    cof = np.linalg.inv(arr) * det\n",
    "    cof  = np.rint(cof)\n",
    "    cof = cof.astype(int)%26\n",
    "    return (inv*cof)%26"
   ]
  },
  {
   "cell_type": "code",
   "execution_count": 35,
   "id": "748eb30f",
   "metadata": {},
   "outputs": [
    {
     "data": {
      "text/plain": [
       "array([[ 4,  9, 15],\n",
       "       [15, 17,  6],\n",
       "       [24,  0, 17]], dtype=int32)"
      ]
     },
     "execution_count": 35,
     "metadata": {},
     "output_type": "execute_result"
    }
   ],
   "source": [
    "find_inverse(arr)"
   ]
  },
  {
   "cell_type": "code",
   "execution_count": 39,
   "id": "d2669faf",
   "metadata": {},
   "outputs": [
    {
     "data": {
      "text/plain": [
       "array([17, 17, 11], dtype=int32)"
      ]
     },
     "execution_count": 39,
     "metadata": {},
     "output_type": "execute_result"
    }
   ],
   "source": [
    "msg = [15,0,24]\n",
    "ci = np.dot(msg,arr)%26\n",
    "ci"
   ]
  },
  {
   "cell_type": "code",
   "execution_count": 42,
   "id": "56daf369",
   "metadata": {},
   "outputs": [
    {
     "data": {
      "text/plain": [
       "array([15,  0, 24], dtype=int32)"
      ]
     },
     "execution_count": 42,
     "metadata": {},
     "output_type": "execute_result"
    }
   ],
   "source": [
    "pl = np.dot(ci,find_inverse(arr))%26\n",
    "pl"
   ]
  },
  {
   "cell_type": "code",
   "execution_count": 57,
   "id": "edc968ac",
   "metadata": {},
   "outputs": [
    {
     "data": {
      "text/plain": [
       "array([[0, 0, 0],\n",
       "       [0, 0, 0],\n",
       "       [0, 0, 0]])"
      ]
     },
     "execution_count": 57,
     "metadata": {},
     "output_type": "execute_result"
    }
   ],
   "source": [
    "n = 3\n",
    "arr = np.zeros((3,3)).astype(int)\n",
    "arr"
   ]
  },
  {
   "cell_type": "code",
   "execution_count": 73,
   "id": "271f740d",
   "metadata": {},
   "outputs": [
    {
     "name": "stdout",
     "output_type": "stream",
     "text": [
      "Enter Key : rrfvsvcct\n"
     ]
    }
   ],
   "source": [
    "key = input('Enter Key : ')\n",
    "while(len(key) != n*n):\n",
    "    key = input('Enter Key again : ')"
   ]
  },
  {
   "cell_type": "code",
   "execution_count": 74,
   "id": "737b1642",
   "metadata": {},
   "outputs": [
    {
     "data": {
      "text/plain": [
       "array([[17, 17,  5],\n",
       "       [21, 18, 21],\n",
       "       [ 2,  2, 19]])"
      ]
     },
     "execution_count": 74,
     "metadata": {},
     "output_type": "execute_result"
    }
   ],
   "source": [
    "k = 0\n",
    "for i in range(n):\n",
    "    for j in range(n):\n",
    "        arr[i][j] = ord(key[k])-97\n",
    "        k = k+1\n",
    "arr"
   ]
  },
  {
   "cell_type": "code",
   "execution_count": 95,
   "id": "13b4e991",
   "metadata": {},
   "outputs": [
    {
     "data": {
      "text/plain": [
       "'pay'"
      ]
     },
     "execution_count": 95,
     "metadata": {},
     "output_type": "execute_result"
    }
   ],
   "source": [
    "msg = 'pay'\n",
    "if len(msg)%n !=0:\n",
    "    for i in range(n-(len(msg)%n)):\n",
    "        msg = msg+'x'\n",
    "msg"
   ]
  },
  {
   "cell_type": "code",
   "execution_count": 103,
   "id": "548e7425",
   "metadata": {},
   "outputs": [
    {
     "data": {
      "text/plain": [
       "'rrl'"
      ]
     },
     "execution_count": 103,
     "metadata": {},
     "output_type": "execute_result"
    }
   ],
   "source": [
    "def encryption(msg,arr):\n",
    "    cipher = ''\n",
    "    for i in range(0,len(msg),3):\n",
    "        c1 = ord(msg[i])-97\n",
    "        c2 = ord(msg[i+1])-97\n",
    "        c3 = ord(msg[i+2])-97\n",
    "        msg_arr = [c1,c2,c3]\n",
    "        ci = np.dot(msg_arr,arr)%26\n",
    "        for j in ci:\n",
    "            cipher = cipher+ chr(j+97)\n",
    "    return cipher\n",
    "c = encryption(msg,arr)\n",
    "c"
   ]
  },
  {
   "cell_type": "code",
   "execution_count": 107,
   "id": "ff9fa6a2",
   "metadata": {},
   "outputs": [
    {
     "data": {
      "text/plain": [
       "'pay'"
      ]
     },
     "execution_count": 107,
     "metadata": {},
     "output_type": "execute_result"
    }
   ],
   "source": [
    "def decryption(msg,arr):\n",
    "    plain = ''\n",
    "    for i in range(0,len(msg),3):\n",
    "        p1 = ord(msg[i])-97\n",
    "        p2 = ord(msg[i+1])-97\n",
    "        p3 = ord(msg[i+2])-97\n",
    "        msg_arr = [p1,p2,p3]\n",
    "        pl = np.dot(msg_arr,find_inverse(arr))%26\n",
    "        for j in pl:\n",
    "            plain = plain+ chr(j+97)\n",
    "    return plain\n",
    "p = decryption(c,arr)\n",
    "p"
   ]
  },
  {
   "cell_type": "code",
   "execution_count": null,
   "id": "8693c572",
   "metadata": {},
   "outputs": [],
   "source": []
  }
 ],
 "metadata": {
  "kernelspec": {
   "display_name": "Python 3 (ipykernel)",
   "language": "python",
   "name": "python3"
  },
  "language_info": {
   "codemirror_mode": {
    "name": "ipython",
    "version": 3
   },
   "file_extension": ".py",
   "mimetype": "text/x-python",
   "name": "python",
   "nbconvert_exporter": "python",
   "pygments_lexer": "ipython3",
   "version": "3.9.12"
  }
 },
 "nbformat": 4,
 "nbformat_minor": 5
}
