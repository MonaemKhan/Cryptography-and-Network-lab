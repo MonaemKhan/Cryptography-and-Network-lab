{
 "cells": [
  {
   "cell_type": "code",
   "execution_count": 3,
   "id": "073cefcf",
   "metadata": {},
   "outputs": [
    {
     "name": "stdout",
     "output_type": "stream",
     "text": [
      "2 3 5 7 11 13 17 19 23 29 31 37 41 43 47 53 59 61 67 71 73 79 83 89 97 "
     ]
    }
   ],
   "source": [
    "def isPrime(n):\n",
    "    if(n==1 or n==0):\n",
    "        return False\n",
    "    for i in range(2,int(n**(1/2))+1):\n",
    "        if(n%i==0):\n",
    "            return False\n",
    "    return True\n",
    "\n",
    "N = 100;\n",
    "for i in range(1,N+1):\n",
    "    if(isPrime(i)):\n",
    "        print(i,end=\" \")"
   ]
  },
  {
   "cell_type": "code",
   "execution_count": 30,
   "id": "b057f2bb",
   "metadata": {},
   "outputs": [
    {
     "name": "stdout",
     "output_type": "stream",
     "text": [
      "11\n"
     ]
    },
    {
     "data": {
      "text/plain": [
       "11"
      ]
     },
     "execution_count": 30,
     "metadata": {},
     "output_type": "execute_result"
    }
   ],
   "source": [
    "while(True):\n",
    "    p = int (input())\n",
    "    if isPrime(p):\n",
    "        break\n",
    "p"
   ]
  },
  {
   "cell_type": "code",
   "execution_count": 31,
   "id": "1694a636",
   "metadata": {},
   "outputs": [
    {
     "name": "stdout",
     "output_type": "stream",
     "text": [
      "3\n"
     ]
    },
    {
     "data": {
      "text/plain": [
       "3"
      ]
     },
     "execution_count": 31,
     "metadata": {},
     "output_type": "execute_result"
    }
   ],
   "source": [
    "while(True):\n",
    "    q = int (input())\n",
    "    if isPrime(q):\n",
    "        break\n",
    "q"
   ]
  },
  {
   "cell_type": "code",
   "execution_count": 32,
   "id": "6ad0d5b8",
   "metadata": {},
   "outputs": [
    {
     "data": {
      "text/plain": [
       "33"
      ]
     },
     "execution_count": 32,
     "metadata": {},
     "output_type": "execute_result"
    }
   ],
   "source": [
    "n = p*q\n",
    "n"
   ]
  },
  {
   "cell_type": "code",
   "execution_count": 149,
   "id": "1aa750e7",
   "metadata": {},
   "outputs": [
    {
     "data": {
      "text/plain": [
       "20"
      ]
     },
     "execution_count": 149,
     "metadata": {},
     "output_type": "execute_result"
    }
   ],
   "source": [
    "phi_n = (p-1)*(q-1)\n",
    "phi_n"
   ]
  },
  {
   "cell_type": "code",
   "execution_count": 130,
   "id": "c1e23040",
   "metadata": {},
   "outputs": [
    {
     "name": "stdout",
     "output_type": "stream",
     "text": [
      "3\n",
      "7\n"
     ]
    }
   ],
   "source": [
    "import random\n",
    "\n",
    "while(True):\n",
    "    e = random.randint(1,nn)\n",
    "    if isPrime(e):\n",
    "        d = multiplicative_inverse(e)\n",
    "        if d!=e:\n",
    "            break\n",
    "print(d)\n",
    "print(e)"
   ]
  },
  {
   "cell_type": "code",
   "execution_count": 151,
   "id": "0ff18426",
   "metadata": {},
   "outputs": [],
   "source": [
    "def multiplicative_inverse(e,phi_n):\n",
    "    for i in range(1,e+1):\n",
    "        mod = (i*e)%phi_n\n",
    "        if mod == 1:\n",
    "            break\n",
    "    return i\n",
    "# e=13\n",
    "# d = multiplicative_inverse(e)\n",
    "# if d!=e:\n",
    "#     print(d)"
   ]
  },
  {
   "cell_type": "code",
   "execution_count": 140,
   "id": "3dbb51b2",
   "metadata": {},
   "outputs": [
    {
     "data": {
      "text/plain": [
       "33"
      ]
     },
     "execution_count": 140,
     "metadata": {},
     "output_type": "execute_result"
    }
   ],
   "source": [
    "n"
   ]
  },
  {
   "cell_type": "code",
   "execution_count": 156,
   "id": "7191be11",
   "metadata": {},
   "outputs": [],
   "source": [
    "def key_gerator(phi_n):\n",
    "    while(True):\n",
    "        e = random.randint(1,phi_n)\n",
    "        if isPrime(e):\n",
    "            d = multiplicative_inverse(e,phi_n)\n",
    "            if d!=e:\n",
    "                break\n",
    "    return e,d"
   ]
  },
  {
   "cell_type": "code",
   "execution_count": 157,
   "id": "d5635c3b",
   "metadata": {},
   "outputs": [
    {
     "data": {
      "text/plain": [
       "(7, 3)"
      ]
     },
     "execution_count": 157,
     "metadata": {},
     "output_type": "execute_result"
    }
   ],
   "source": [
    "key_gerator(20)"
   ]
  },
  {
   "cell_type": "code",
   "execution_count": 150,
   "id": "376bc4fa",
   "metadata": {},
   "outputs": [
    {
     "name": "stdout",
     "output_type": "stream",
     "text": [
      "p=11\n",
      "q=3\n",
      "n=33\n",
      "phi_n=20\n"
     ]
    }
   ],
   "source": [
    "print('p='+ str(p))\n",
    "print('q='+ str(q))\n",
    "print('n='+ str(n))\n",
    "print('phi_n='+ str(phi_n))"
   ]
  },
  {
   "cell_type": "code",
   "execution_count": 158,
   "id": "21c1e8da",
   "metadata": {},
   "outputs": [
    {
     "data": {
      "text/plain": [
       "4"
      ]
     },
     "execution_count": 158,
     "metadata": {},
     "output_type": "execute_result"
    }
   ],
   "source": [
    "31**17%33"
   ]
  },
  {
   "cell_type": "code",
   "execution_count": 159,
   "id": "c6f9f214",
   "metadata": {},
   "outputs": [
    {
     "data": {
      "text/plain": [
       "31"
      ]
     },
     "execution_count": 159,
     "metadata": {},
     "output_type": "execute_result"
    }
   ],
   "source": [
    "4**13%33"
   ]
  },
  {
   "cell_type": "code",
   "execution_count": 160,
   "id": "275487cb",
   "metadata": {},
   "outputs": [
    {
     "name": "stdout",
     "output_type": "stream",
     "text": [
      "m\n",
      "12\n",
      "o\n",
      "14\n",
      "n\n",
      "13\n",
      "a\n",
      "0\n",
      "e\n",
      "4\n",
      "m\n",
      "12\n"
     ]
    }
   ],
   "source": [
    "plain_text = 'Monaem'\n",
    "plain_text = plain_text.lower()\n",
    "for i in plain_text:\n",
    "    print(i)\n",
    "    print(ord(i)-97)"
   ]
  },
  {
   "cell_type": "code",
   "execution_count": 181,
   "id": "22f83999",
   "metadata": {},
   "outputs": [
    {
     "name": "stdout",
     "output_type": "stream",
     "text": [
      "31\n"
     ]
    },
    {
     "data": {
      "text/plain": [
       "31"
      ]
     },
     "execution_count": 181,
     "metadata": {},
     "output_type": "execute_result"
    }
   ],
   "source": [
    "def encrypt(msg,key,n):\n",
    "    up_msg = msg**key%n\n",
    "    print(up_msg)\n",
    "    return up_msg\n",
    "encrypt(25,7,33)"
   ]
  },
  {
   "cell_type": "code",
   "execution_count": 183,
   "id": "79fb5144",
   "metadata": {},
   "outputs": [
    {
     "name": "stdout",
     "output_type": "stream",
     "text": [
      "\n"
     ]
    }
   ],
   "source": [
    "print(chr(97+31))"
   ]
  },
  {
   "cell_type": "code",
   "execution_count": 187,
   "id": "f361fc23",
   "metadata": {},
   "outputs": [
    {
     "name": "stdout",
     "output_type": "stream",
     "text": [
      "31\n"
     ]
    }
   ],
   "source": [
    "print(ord('')-97)"
   ]
  },
  {
   "cell_type": "code",
   "execution_count": 191,
   "id": "3a4d9782",
   "metadata": {},
   "outputs": [
    {
     "data": {
      "text/plain": [
       "25"
      ]
     },
     "execution_count": 191,
     "metadata": {},
     "output_type": "execute_result"
    }
   ],
   "source": [
    "char = 'z'\n",
    "char = char.lower()\n",
    "msg = ord(char)-97\n",
    "msg"
   ]
  },
  {
   "cell_type": "code",
   "execution_count": 194,
   "id": "ae4be58a",
   "metadata": {},
   "outputs": [
    {
     "data": {
      "text/plain": [
       "'\\x80'"
      ]
     },
     "execution_count": 194,
     "metadata": {},
     "output_type": "execute_result"
    }
   ],
   "source": [
    "cipher_char = 31\n",
    "chipher = ''\n",
    "chipher = chipher + chr(31+97)\n",
    "chipher"
   ]
  },
  {
   "cell_type": "code",
   "execution_count": 210,
   "id": "3820af10",
   "metadata": {},
   "outputs": [],
   "source": [
    "msg = 'monaem'\n",
    "key = 'khan'"
   ]
  },
  {
   "cell_type": "code",
   "execution_count": 211,
   "id": "e41c9d87",
   "metadata": {},
   "outputs": [
    {
     "data": {
      "text/plain": [
       "'khankh'"
      ]
     },
     "execution_count": 211,
     "metadata": {},
     "output_type": "execute_result"
    }
   ],
   "source": [
    "while len(msg) != len(key):\n",
    "    if len(msg) > len(key):\n",
    "        key = key+key\n",
    "    else:\n",
    "        key = key[:len(msg)]\n",
    "key"
   ]
  },
  {
   "cell_type": "code",
   "execution_count": 221,
   "id": "66b529cc",
   "metadata": {},
   "outputs": [
    {
     "name": "stdout",
     "output_type": "stream",
     "text": [
      "m xor k\n",
      "\u0006\n",
      "o xor h\n",
      "\u0007\n",
      "n xor a\n",
      "\u000f\n",
      "a xor n\n",
      "\u000f\n",
      "e xor k\n",
      "\u000e\n",
      "m xor h\n",
      "\u0005\n"
     ]
    }
   ],
   "source": [
    "for i in range(len(msg)):\n",
    "    print(msg[i]+ \" xor \"+key[i])\n",
    "    xor_num = (ord(msg[i]))^(ord(key[i]))\n",
    "    print(chr(xor_num))"
   ]
  },
  {
   "cell_type": "code",
   "execution_count": 222,
   "id": "bde752a2",
   "metadata": {},
   "outputs": [
    {
     "name": "stdout",
     "output_type": "stream",
     "text": [
      "\u0006\u0007\u000f\u000f\u000e\u0005\n",
      "monaem\n"
     ]
    }
   ],
   "source": [
    "def xor_operation(msg,key):\n",
    "    xor_str = ''\n",
    "    for i in range(len(msg)):\n",
    "        xor_num = (ord(msg[i]))^(ord(key[i]))\n",
    "        xor_str = xor_str + chr(xor_num)\n",
    "    return xor_str\n",
    "\n",
    "cipher =  xor_operation(msg,key)\n",
    "print(cipher)\n",
    "cipher =  xor_operation(cipher,key)\n",
    "print(cipher)"
   ]
  },
  {
   "cell_type": "code",
   "execution_count": 224,
   "id": "bc40f0e5",
   "metadata": {},
   "outputs": [
    {
     "data": {
      "text/plain": [
       "'tjtojl'"
      ]
     },
     "execution_count": 224,
     "metadata": {},
     "output_type": "execute_result"
    }
   ],
   "source": [
    "key = ''\n",
    "for i in range(len(msg)):\n",
    "    key = key+ chr(random.randint(0,25)+97)\n",
    "key"
   ]
  },
  {
   "cell_type": "code",
   "execution_count": 228,
   "id": "bd9dded8",
   "metadata": {},
   "outputs": [
    {
     "data": {
      "text/plain": [
       "'mnxrhf'"
      ]
     },
     "execution_count": 228,
     "metadata": {},
     "output_type": "execute_result"
    }
   ],
   "source": [
    "def random_key_generator(length):\n",
    "    key = \"\"\n",
    "    for i in range(len(msg)):\n",
    "        key = key+ chr(random.randint(0,25)+97)\n",
    "    return key\n",
    "random_key_generator(6)"
   ]
  },
  {
   "cell_type": "code",
   "execution_count": null,
   "id": "d95ffff7",
   "metadata": {},
   "outputs": [],
   "source": []
  }
 ],
 "metadata": {
  "kernelspec": {
   "display_name": "Python 3 (ipykernel)",
   "language": "python",
   "name": "python3"
  },
  "language_info": {
   "codemirror_mode": {
    "name": "ipython",
    "version": 3
   },
   "file_extension": ".py",
   "mimetype": "text/x-python",
   "name": "python",
   "nbconvert_exporter": "python",
   "pygments_lexer": "ipython3",
   "version": "3.9.12"
  }
 },
 "nbformat": 4,
 "nbformat_minor": 5
}
