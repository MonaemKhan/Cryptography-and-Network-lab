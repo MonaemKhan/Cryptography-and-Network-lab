{
 "cells": [
  {
   "cell_type": "code",
   "execution_count": 1,
   "id": "c4eb616d",
   "metadata": {},
   "outputs": [],
   "source": [
    "import random"
   ]
  },
  {
   "cell_type": "code",
   "execution_count": 2,
   "id": "4c622388",
   "metadata": {},
   "outputs": [
    {
     "name": "stdout",
     "output_type": "stream",
     "text": [
      "['Y', 'L', '9', 'e', 'i', '0', 'r', 'O', '<', '#', 'f', 'Q', 'g', 'z', '@', '6', '%', 'q', '*', 's', 'P', 'l', 'X', 'D', 'H', 'F', ',', '1', '4', '>', '?', '_', 'm', '|', 'A', '`', 'B', 'p', '\"', 'I', 'M', '3', '~', '{', 'd', 'C', ')', 'G', 'N', 'a', ']', '/', '.', '^', 'h', 'K', 'w', 'x']\n"
     ]
    }
   ],
   "source": [
    "li = []\n",
    "for i in range(33,127):\n",
    "    r = random.randint(33,126)\n",
    "    if chr(r) not in li:\n",
    "        li.append(chr(r))\n",
    "print(li)"
   ]
  },
  {
   "cell_type": "code",
   "execution_count": 3,
   "id": "554d02c2",
   "metadata": {},
   "outputs": [],
   "source": [
    "char_list = ['j', '8', '\\\\', 'y', '@', 'G', '0', 'D', '\"', ';', 'Q', '`', 'r', 'd', '3', 'M', '~', 'i', '^', 'C', 'O', 'Z', 'S', 'M', '7', 'M', 's', '4', 'e', '6', '}', '|', 'Q', 'k', 'N', '2', '`', 'G', 'l', '~', 'd', 'T', '1', 'R', '7', 'G', '/', '\\\\', '$', 'J', 'J', '/', '6', 'c', 'Z', '*', 'q', 'u', 'S', 'J', 'O', 'y', '>', 'e', 'O', 'Y', 'y', '>', '$', 'e', '0', 'o', 's', 'Q', \"'\", '1', 'x', 'k', 'v', 'B', '(', '/', '1', '6', 'G', 'v', '_', 'J', '.', '0', '4', 'q', 'j', '^']"
   ]
  },
  {
   "cell_type": "code",
   "execution_count": 4,
   "id": "9e70d2b1",
   "metadata": {},
   "outputs": [
    {
     "data": {
      "text/plain": [
       "92"
      ]
     },
     "execution_count": 4,
     "metadata": {},
     "output_type": "execute_result"
    }
   ],
   "source": [
    "ord('\\\\')"
   ]
  },
  {
   "cell_type": "code",
   "execution_count": 5,
   "id": "c7b5fc0a",
   "metadata": {},
   "outputs": [
    {
     "data": {
      "text/plain": [
       "94"
      ]
     },
     "execution_count": 5,
     "metadata": {},
     "output_type": "execute_result"
    }
   ],
   "source": [
    "len(char_list)"
   ]
  },
  {
   "cell_type": "code",
   "execution_count": 6,
   "id": "ff08be89",
   "metadata": {},
   "outputs": [
    {
     "data": {
      "text/plain": [
       "94"
      ]
     },
     "execution_count": 6,
     "metadata": {},
     "output_type": "execute_result"
    }
   ],
   "source": [
    "li = range(33,127)\n",
    "li = set(li)\n",
    "li = list(li)\n",
    "len(li)"
   ]
  },
  {
   "cell_type": "code",
   "execution_count": 7,
   "id": "48ea6d2b",
   "metadata": {},
   "outputs": [],
   "source": [
    "ls = random.sample(li,94)"
   ]
  },
  {
   "cell_type": "code",
   "execution_count": 8,
   "id": "240ba2a3",
   "metadata": {},
   "outputs": [
    {
     "name": "stdout",
     "output_type": "stream",
     "text": [
      "['}', 'y', '*', ')', '/', 'D', '{', 'i', 'q', '4', 'F', 'J', 'W', 'w', '=', '+', 'N', 'P', 'Q', '8', 'b', '7', '!', '<', 'L', 'B', 'R', 'K', '0', 'I', 'k', '>', '\"', 'X', 'g', 'U', 'e', 'A', 'p', 'V', 'v', 'M', '@', '_', '`', '[', 'm', 'u', '|', '#', 'E', 'S', \"'\", '1', 'n', 'r', '?', 'z', '\\\\', '$', 'G', '&', '2', '6', ']', '(', '.', 't', ',', ':', '9', 'Y', '5', 'Z', 'h', 'C', '3', 'd', 'l', '-', 'O', 'x', 'H', '~', 's', 'T', ';', '%', 'f', 'o', '^', 'c', 'j', 'a']\n"
     ]
    }
   ],
   "source": [
    "char = []\n",
    "for r in ls:\n",
    "    char.append(chr(r))\n",
    "print(char)"
   ]
  },
  {
   "cell_type": "code",
   "execution_count": 9,
   "id": "9ba0d0a6",
   "metadata": {},
   "outputs": [
    {
     "data": {
      "text/plain": [
       "list"
      ]
     },
     "execution_count": 9,
     "metadata": {},
     "output_type": "execute_result"
    }
   ],
   "source": [
    "type(char)"
   ]
  },
  {
   "cell_type": "code",
   "execution_count": 10,
   "id": "db4e78f9",
   "metadata": {},
   "outputs": [],
   "source": [
    "char_list = ['o', 'U', ':', 'O', 'd', 'I', 'm', '\"', 'N', 'g', 'e', '1', 'q', 'P', '+', 'C', \n",
    "             'L', '*', 'p', 'E', 'R', '(', '~', '/', ';', '8', '$', 'a', 'l', 'J', \n",
    "             'A', 'Z', 'B', 'G', ']', '-', 'M', '4', '<', 'v', \"'\", ',', '.', '6', '}', '0', 'x', \n",
    "             'k', 'h', 'w', 'F', 'X', 'r', '?', 'z', '{', '@', '>', 'D', '3', 'H', 'f', 'Q', '^', \n",
    "             '[', 'K', '7', 'c', 'j', 'y', 'n', 'b', '=', 's', 't', 'S', '5', 'u', 'Y', 'W', '!', \n",
    "             '&', 'T', '%', '2', '_', ')', 'V', 'i', '9']"
   ]
  },
  {
   "cell_type": "code",
   "execution_count": 11,
   "id": "97096d37",
   "metadata": {},
   "outputs": [
    {
     "data": {
      "text/plain": [
       "90"
      ]
     },
     "execution_count": 11,
     "metadata": {},
     "output_type": "execute_result"
    }
   ],
   "source": [
    "len(char_list)"
   ]
  },
  {
   "cell_type": "code",
   "execution_count": 12,
   "id": "59c0609e",
   "metadata": {},
   "outputs": [
    {
     "data": {
      "text/plain": [
       "4"
      ]
     },
     "execution_count": 12,
     "metadata": {},
     "output_type": "execute_result"
    }
   ],
   "source": [
    "ch = 'ab\\\\u'\n",
    "len(ch)"
   ]
  },
  {
   "cell_type": "code",
   "execution_count": 13,
   "id": "2e385234",
   "metadata": {},
   "outputs": [
    {
     "name": "stdout",
     "output_type": "stream",
     "text": [
      "a\n",
      "b\n",
      "\\\n",
      "u\n"
     ]
    }
   ],
   "source": [
    "for i in ch:\n",
    "    print(i)"
   ]
  },
  {
   "cell_type": "code",
   "execution_count": 14,
   "id": "eaad43fd",
   "metadata": {},
   "outputs": [
    {
     "data": {
      "text/plain": [
       "['0', '1', '2', '3', '4', '5', '6', '7', '8', '9']"
      ]
     },
     "execution_count": 14,
     "metadata": {},
     "output_type": "execute_result"
    }
   ],
   "source": [
    "key_generator = []\n",
    "li = range(48,58)\n",
    "for i in li:\n",
    "    key_generator.append(chr(i))\n",
    "key_generator"
   ]
  },
  {
   "cell_type": "code",
   "execution_count": 15,
   "id": "f7b34e64",
   "metadata": {},
   "outputs": [
    {
     "name": "stdout",
     "output_type": "stream",
     "text": [
      "['0', '1', '2', '3', '4', '5', '6', '7', '8', '9', 'A', 'B', 'C', 'D', 'E', 'F', 'G', 'H', 'I', 'J', 'K', 'L', 'M', 'N', 'O', 'P', 'Q', 'R', 'S', 'T', 'U', 'V', 'W', 'X', 'Y', 'Z']\n"
     ]
    }
   ],
   "source": [
    "li = range(65,91)\n",
    "for i in li:\n",
    "    key_generator.append(chr(i))\n",
    "print(key_generator)"
   ]
  },
  {
   "cell_type": "code",
   "execution_count": 16,
   "id": "0ba3fd6a",
   "metadata": {},
   "outputs": [
    {
     "name": "stdout",
     "output_type": "stream",
     "text": [
      "['0', '1', '2', '3', '4', '5', '6', '7', '8', '9', 'A', 'B', 'C', 'D', 'E', 'F', 'G', 'H', 'I', 'J', 'K', 'L', 'M', 'N', 'O', 'P', 'Q', 'R', 'S', 'T', 'U', 'V', 'W', 'X', 'Y', 'Z', 'a', 'b', 'c', 'd', 'e', 'f', 'g', 'h', 'i', 'j', 'k', 'l', 'm', 'n', 'o', 'p', 'q', 'r', 's', 't', 'u', 'v', 'w', 'x', 'y', 'z']\n"
     ]
    }
   ],
   "source": [
    "li = range(97,123)\n",
    "for i in li:\n",
    "    key_generator.append(chr(i))\n",
    "print(key_generator)"
   ]
  },
  {
   "cell_type": "code",
   "execution_count": 17,
   "id": "ee9d3347",
   "metadata": {},
   "outputs": [
    {
     "name": "stdout",
     "output_type": "stream",
     "text": [
      "62\n"
     ]
    }
   ],
   "source": [
    "key_list = ['0', '1', '2', '3', '4', '5', '6', '7', '8', '9', 'A', 'B', 'C', 'D', 'E', 'F', 'G', 'H', \n",
    "            'I', 'J', 'K', 'L', 'M', 'N', 'O', 'P', 'Q', 'R', 'S', 'T', 'U', 'V', 'W', 'X', 'Y', 'Z', \n",
    "            'a', 'b', 'c', 'd', 'e', 'f', 'g', 'h', 'i', 'j', 'k', 'l', 'm', 'n', 'o', 'p', 'q', 'r', \n",
    "            's', 't', 'u', 'v', 'w', 'x', 'y', 'z']\n",
    "print(len(key_list))"
   ]
  },
  {
   "cell_type": "code",
   "execution_count": 18,
   "id": "684ed29b",
   "metadata": {},
   "outputs": [
    {
     "data": {
      "text/plain": [
       "['p', 'w', 'T', 'A', 'd', 'n', 'X', 'J', 'c', 'D', 'N', '8', 'h', '0', 'C']"
      ]
     },
     "execution_count": 18,
     "metadata": {},
     "output_type": "execute_result"
    }
   ],
   "source": [
    "key = random.sample(key_list,15)\n",
    "key"
   ]
  },
  {
   "cell_type": "code",
   "execution_count": 19,
   "id": "b5fcd7da",
   "metadata": {},
   "outputs": [
    {
     "data": {
      "text/plain": [
       "'6'"
      ]
     },
     "execution_count": 19,
     "metadata": {},
     "output_type": "execute_result"
    }
   ],
   "source": [
    "ch = random.randint(3,9)\n",
    "str(ch)"
   ]
  },
  {
   "cell_type": "code",
   "execution_count": 20,
   "id": "be23e3ef",
   "metadata": {},
   "outputs": [
    {
     "data": {
      "text/plain": [
       "'pwTAdnXJcDN8h0C'"
      ]
     },
     "execution_count": 20,
     "metadata": {},
     "output_type": "execute_result"
    }
   ],
   "source": [
    "key = ''.join(key)\n",
    "key"
   ]
  },
  {
   "cell_type": "code",
   "execution_count": 21,
   "id": "b8e49707",
   "metadata": {},
   "outputs": [
    {
     "data": {
      "text/plain": [
       "'6pwTAdnXJcDN8h0C'"
      ]
     },
     "execution_count": 21,
     "metadata": {},
     "output_type": "execute_result"
    }
   ],
   "source": [
    "key = str(ch)+key\n",
    "key"
   ]
  },
  {
   "cell_type": "code",
   "execution_count": 22,
   "id": "16340c12",
   "metadata": {},
   "outputs": [
    {
     "data": {
      "text/plain": [
       "'45N7BYKnWZ2F9xi4'"
      ]
     },
     "execution_count": 22,
     "metadata": {},
     "output_type": "execute_result"
    }
   ],
   "source": [
    "key = '45N7BYKnWZ2F9xi4'\n",
    "key"
   ]
  },
  {
   "cell_type": "code",
   "execution_count": 23,
   "id": "d059cc3a",
   "metadata": {},
   "outputs": [
    {
     "data": {
      "text/plain": [
       "4"
      ]
     },
     "execution_count": 23,
     "metadata": {},
     "output_type": "execute_result"
    }
   ],
   "source": [
    "key_1 = int(key[0])\n",
    "key_1"
   ]
  },
  {
   "cell_type": "code",
   "execution_count": 24,
   "id": "e81939ca",
   "metadata": {},
   "outputs": [
    {
     "data": {
      "text/plain": [
       "['5', 'N', '7', 'B', 'Y', 'K', 'n', 'W', 'Z', '2', 'F', '9', 'x', 'i', '4']"
      ]
     },
     "execution_count": 24,
     "metadata": {},
     "output_type": "execute_result"
    }
   ],
   "source": [
    "key_2 = key[1:]\n",
    "list(key_2)"
   ]
  },
  {
   "cell_type": "code",
   "execution_count": 25,
   "id": "165775fe",
   "metadata": {},
   "outputs": [
    {
     "data": {
      "text/plain": [
       "15"
      ]
     },
     "execution_count": 25,
     "metadata": {},
     "output_type": "execute_result"
    }
   ],
   "source": [
    "len(key_2)"
   ]
  },
  {
   "cell_type": "code",
   "execution_count": 26,
   "id": "a79c5c36",
   "metadata": {},
   "outputs": [
    {
     "name": "stdout",
     "output_type": "stream",
     "text": [
      "['o', 'U', ':', 'O', 'd', 'I', 'm', '\"', 'N', 'g', 'e', '1', 'q', 'P', '+', 'C', 'L', '*', 'p', 'E', 'R', '(', '~', '/', ';', '8', '$', 'a', 'l', 'J', 'A', 'Z', 'B', 'G', ']', '-', 'M', '4', '<', 'v', \"'\", ',', '.', '6', '}', '0', 'x', 'k', 'h', 'w', 'F', 'X', 'r', '?', 'z', '{', '@', '>', 'D', '3', 'H', 'f', 'Q', '^', '[', 'K', '7', 'c', 'j', 'y', 'n', 'b', '=', 's', 't', 'S', '5', 'u', 'Y', 'W', '!', '&', 'T', '%', '2', '_', ')', 'V', 'i', '9']\n"
     ]
    }
   ],
   "source": [
    "print(char_list)"
   ]
  },
  {
   "cell_type": "code",
   "execution_count": 27,
   "id": "2a8fd6f1",
   "metadata": {},
   "outputs": [
    {
     "data": {
      "text/plain": [
       "90"
      ]
     },
     "execution_count": 27,
     "metadata": {},
     "output_type": "execute_result"
    }
   ],
   "source": [
    "len(char_list)"
   ]
  },
  {
   "cell_type": "code",
   "execution_count": 28,
   "id": "4c6573ba",
   "metadata": {},
   "outputs": [
    {
     "data": {
      "text/plain": [
       "['F', 'A', '`']"
      ]
     },
     "execution_count": 28,
     "metadata": {},
     "output_type": "execute_result"
    }
   ],
   "source": [
    "msg = list('FA`')\n",
    "msg"
   ]
  },
  {
   "cell_type": "code",
   "execution_count": 29,
   "id": "06056069",
   "metadata": {},
   "outputs": [
    {
     "data": {
      "text/plain": [
       "['z', ']', '`']"
      ]
     },
     "execution_count": 29,
     "metadata": {},
     "output_type": "execute_result"
    }
   ],
   "source": [
    "new_msg = []\n",
    "for i in msg:\n",
    "    try:\n",
    "        index = char_list.index(i)\n",
    "        new_index = index+key_1\n",
    "        if new_index>90:\n",
    "            new_index = new_index - 90 - 1\n",
    "            new_msg.append(char_list[new_index])\n",
    "        else:\n",
    "            new_msg.append(char_list[new_index])\n",
    "    except:\n",
    "        new_msg.append(i)\n",
    "new_msg"
   ]
  },
  {
   "cell_type": "code",
   "execution_count": 30,
   "id": "b87be60a",
   "metadata": {},
   "outputs": [
    {
     "data": {
      "text/plain": [
       "')'"
      ]
     },
     "execution_count": 30,
     "metadata": {},
     "output_type": "execute_result"
    }
   ],
   "source": [
    "char_list[86]"
   ]
  },
  {
   "cell_type": "code",
   "execution_count": 31,
   "id": "47d53d18",
   "metadata": {},
   "outputs": [
    {
     "data": {
      "text/plain": [
       "'5N7BYKnWZ2F9xi4'"
      ]
     },
     "execution_count": 31,
     "metadata": {},
     "output_type": "execute_result"
    }
   ],
   "source": [
    "key_2"
   ]
  },
  {
   "cell_type": "code",
   "execution_count": 32,
   "id": "2ceedd6c",
   "metadata": {},
   "outputs": [
    {
     "data": {
      "text/plain": [
       "['5', 'N', '7', 'B', 'Y', 'K', 'n', 'W', 'Z', '2', 'F', '9', 'x', 'i', '4']"
      ]
     },
     "execution_count": 32,
     "metadata": {},
     "output_type": "execute_result"
    }
   ],
   "source": [
    "new_fair = list(key_2)\n",
    "new_fair"
   ]
  },
  {
   "cell_type": "code",
   "execution_count": 33,
   "id": "7a55b225",
   "metadata": {},
   "outputs": [
    {
     "name": "stdout",
     "output_type": "stream",
     "text": [
      "90\n"
     ]
    }
   ],
   "source": [
    "for i in char_list:\n",
    "    if i not in new_fair:\n",
    "        new_fair.append(i)\n",
    "print(len(new_fair))"
   ]
  },
  {
   "cell_type": "code",
   "execution_count": 34,
   "id": "6a298337",
   "metadata": {},
   "outputs": [
    {
     "data": {
      "text/plain": [
       "array([['5', 'N', '7', 'B', 'Y', 'K', 'n', 'W', 'Z'],\n",
       "       ['2', 'F', '9', 'x', 'i', '4', 'o', 'U', ':'],\n",
       "       ['O', 'd', 'I', 'm', '\"', 'g', 'e', '1', 'q'],\n",
       "       ['P', '+', 'C', 'L', '*', 'p', 'E', 'R', '('],\n",
       "       ['~', '/', ';', '8', '$', 'a', 'l', 'J', 'A'],\n",
       "       ['G', ']', '-', 'M', '<', 'v', \"'\", ',', '.'],\n",
       "       ['6', '}', '0', 'k', 'h', 'w', 'X', 'r', '?'],\n",
       "       ['z', '{', '@', '>', 'D', '3', 'H', 'f', 'Q'],\n",
       "       ['^', '[', 'c', 'j', 'y', 'b', '=', 's', 't'],\n",
       "       ['S', 'u', '!', '&', 'T', '%', '_', ')', 'V']], dtype='<U1')"
      ]
     },
     "execution_count": 34,
     "metadata": {},
     "output_type": "execute_result"
    }
   ],
   "source": [
    "import numpy as np\n",
    "arr = np.array(new_fair)\n",
    "update_diagram = arr.reshape(10,9)\n",
    "update_diagram"
   ]
  },
  {
   "cell_type": "code",
   "execution_count": 35,
   "id": "c38c9e17",
   "metadata": {},
   "outputs": [
    {
     "data": {
      "text/plain": [
       "['z', ']', '`']"
      ]
     },
     "execution_count": 35,
     "metadata": {},
     "output_type": "execute_result"
    }
   ],
   "source": [
    "new_msg"
   ]
  },
  {
   "cell_type": "code",
   "execution_count": 36,
   "id": "9646f369",
   "metadata": {},
   "outputs": [
    {
     "data": {
      "text/plain": [
       "4"
      ]
     },
     "execution_count": 36,
     "metadata": {},
     "output_type": "execute_result"
    }
   ],
   "source": [
    "ll = np.where(update_diagram == '/')\n",
    "i = ll[0][0]\n",
    "i"
   ]
  },
  {
   "cell_type": "code",
   "execution_count": 37,
   "id": "0e55a687",
   "metadata": {},
   "outputs": [
    {
     "data": {
      "text/plain": [
       "array([['5', 'N', '7', 'B', 'Y', 'K', 'n', 'W', 'Z'],\n",
       "       ['2', 'F', '9', 'x', 'i', '4', 'o', 'U', ':'],\n",
       "       ['O', 'd', 'I', 'm', '\"', 'g', 'e', '1', 'q'],\n",
       "       ['P', '+', 'C', 'L', '*', 'p', 'E', 'R', '('],\n",
       "       ['~', '/', ';', '8', '$', 'a', 'l', 'J', 'A'],\n",
       "       ['G', ']', '-', 'M', '<', 'v', \"'\", ',', '.'],\n",
       "       ['6', '}', '0', 'k', 'h', 'w', 'X', 'r', '?'],\n",
       "       ['z', '{', '@', '>', 'D', '3', 'H', 'f', 'Q'],\n",
       "       ['^', '[', 'c', 'j', 'y', 'b', '=', 's', 't'],\n",
       "       ['S', 'u', '!', '&', 'T', '%', '_', ')', 'V']], dtype='<U1')"
      ]
     },
     "execution_count": 37,
     "metadata": {},
     "output_type": "execute_result"
    }
   ],
   "source": [
    "update_diagram"
   ]
  },
  {
   "cell_type": "code",
   "execution_count": 38,
   "id": "d3f8e2e3",
   "metadata": {},
   "outputs": [
    {
     "name": "stdout",
     "output_type": "stream",
     "text": [
      "z\n",
      "7   0\n",
      "3   0\n",
      "P\n",
      "]\n",
      "5   1\n",
      "5   5\n",
      "v\n",
      "`\n"
     ]
    },
    {
     "ename": "IndexError",
     "evalue": "index 0 is out of bounds for axis 0 with size 0",
     "output_type": "error",
     "traceback": [
      "\u001b[1;31m---------------------------------------------------------------------------\u001b[0m",
      "\u001b[1;31mIndexError\u001b[0m                                Traceback (most recent call last)",
      "Input \u001b[1;32mIn [38]\u001b[0m, in \u001b[0;36m<cell line: 2>\u001b[1;34m()\u001b[0m\n\u001b[0;32m      3\u001b[0m \u001b[38;5;28mprint\u001b[39m(i)\n\u001b[0;32m      4\u001b[0m ll \u001b[38;5;241m=\u001b[39m np\u001b[38;5;241m.\u001b[39mwhere(update_diagram \u001b[38;5;241m==\u001b[39m i)\n\u001b[1;32m----> 5\u001b[0m row \u001b[38;5;241m=\u001b[39m \u001b[43mll\u001b[49m\u001b[43m[\u001b[49m\u001b[38;5;241;43m0\u001b[39;49m\u001b[43m]\u001b[49m\u001b[43m[\u001b[49m\u001b[38;5;241;43m0\u001b[39;49m\u001b[43m]\u001b[49m\n\u001b[0;32m      6\u001b[0m col \u001b[38;5;241m=\u001b[39m ll[\u001b[38;5;241m1\u001b[39m][\u001b[38;5;241m0\u001b[39m]\n\u001b[0;32m      7\u001b[0m \u001b[38;5;28mprint\u001b[39m(row,\u001b[38;5;124m\"\u001b[39m\u001b[38;5;124m \u001b[39m\u001b[38;5;124m\"\u001b[39m,col)\n",
      "\u001b[1;31mIndexError\u001b[0m: index 0 is out of bounds for axis 0 with size 0"
     ]
    }
   ],
   "source": [
    "rules = 3\n",
    "for i in new_msg:\n",
    "    print(i)\n",
    "    ll = np.where(update_diagram == i)\n",
    "    row = ll[0][0]\n",
    "    col = ll[1][0]\n",
    "    print(row,\" \",col)\n",
    "    \n",
    "    if rules == 0:\n",
    "        col_pos = col+key_1\n",
    "        if col_pos>9:\n",
    "            print(row,\" \",col_pos-9)\n",
    "            print(update_diagram[row][col_pos-9])\n",
    "        else:  \n",
    "            print(row,\" \",col+key_1)\n",
    "            print(update_diagram[row][col_pos])\n",
    "        rules = rules+1\n",
    "    \n",
    "    elif rules == 1:\n",
    "        col_pos = col-key_1\n",
    "        if col_pos<0:\n",
    "            print(row,\" \",col_pos+9)\n",
    "            print(update_diagram[row][col_pos+9])\n",
    "        else:  \n",
    "            print(row,\" \",col-key_1)\n",
    "            print(update_diagram[row][col_pos])\n",
    "        rules = rules+1\n",
    "        \n",
    "    else:\n",
    "        row_pos = row-key_1\n",
    "        if row_pos<0:\n",
    "            print(row_pos+10,\" \",col)\n",
    "            print(update_diagram[row_pos+10][col])\n",
    "        else:\n",
    "            print(row_pos,\" \",col)\n",
    "            print(update_diagram[row_pos][col])\n",
    "        rules = 0"
   ]
  },
  {
   "cell_type": "code",
   "execution_count": 39,
   "id": "d01e15d6",
   "metadata": {},
   "outputs": [
    {
     "data": {
      "text/plain": [
       "array([['5', 'N', '7', 'B', 'Y', 'K', 'n', 'W', 'Z'],\n",
       "       ['2', 'F', '9', 'x', 'i', '4', 'o', 'U', ':'],\n",
       "       ['O', 'd', 'I', 'm', '\"', 'g', 'e', '1', 'q'],\n",
       "       ['P', '+', 'C', 'L', '*', 'p', 'E', 'R', '('],\n",
       "       ['~', '/', ';', '8', '$', 'a', 'l', 'J', 'A'],\n",
       "       ['G', ']', '-', 'M', '<', 'v', \"'\", ',', '.'],\n",
       "       ['6', '}', '0', 'k', 'h', 'w', 'X', 'r', '?'],\n",
       "       ['z', '{', '@', '>', 'D', '3', 'H', 'f', 'Q'],\n",
       "       ['^', '[', 'c', 'j', 'y', 'b', '=', 's', 't'],\n",
       "       ['S', 'u', '!', '&', 'T', '%', '_', ')', 'V']], dtype='<U1')"
      ]
     },
     "execution_count": 39,
     "metadata": {},
     "output_type": "execute_result"
    }
   ],
   "source": [
    "update_diagram"
   ]
  },
  {
   "cell_type": "code",
   "execution_count": 121,
   "id": "e95653aa",
   "metadata": {},
   "outputs": [
    {
     "name": "stdout",
     "output_type": "stream",
     "text": [
      "  M\n",
      "ok\n",
      "0\n",
      "6   2\n",
      "ok1\n",
      "6   2\n",
      "0\n",
      "  .\n",
      "ok\n",
      "X\n",
      "6   6\n",
      "ok2\n",
      "6   6\n",
      "X\n",
      "  A\n",
      "ok\n",
      "v\n",
      "5   5\n",
      "ok3\n",
      "6   5\n",
      "w\n",
      "   \n",
      " \n",
      "  M\n",
      "ok\n",
      "0\n",
      "6   2\n",
      "ok1\n",
      "6   2\n",
      "0\n",
      "  o\n",
      "ok\n",
      "g\n",
      "2   5\n",
      "ok2\n",
      "2   5\n",
      "g\n",
      "  n\n",
      "ok\n",
      "W\n",
      "0   7\n",
      "ok3\n",
      "1   7\n",
      "U\n",
      "  a\n",
      "ok\n",
      "M\n",
      "5   3\n",
      "ok1\n",
      "5   3\n",
      "M\n",
      "  e\n",
      "ok\n",
      "E\n",
      "3   6\n",
      "ok2\n",
      "3   6\n",
      "E\n",
      "  m\n",
      "ok\n",
      "C\n",
      "3   2\n",
      "ok3\n",
      "4   2\n",
      ";\n",
      "   \n",
      " \n",
      "  K\n",
      "ok\n",
      "t\n",
      "8   8\n",
      "ok1\n",
      "8   8\n",
      "t\n",
      "  h\n",
      "ok\n",
      ">\n",
      "7   3\n",
      "ok2\n",
      "7   3\n",
      ">\n",
      "  a\n",
      "ok\n",
      "M\n",
      "5   3\n",
      "ok3\n",
      "6   3\n",
      "k\n",
      "  n\n",
      "ok\n",
      "W\n",
      "0   7\n",
      "ok1\n",
      "0   7\n",
      "W\n",
      "   \n",
      " \n",
      "  &\n",
      "ok\n",
      "o\n",
      "1   6\n",
      "ok2\n",
      "1   6\n",
      "o\n",
      "   \n",
      " \n",
      "  M\n",
      "ok\n",
      "0\n",
      "6   2\n",
      "ok3\n",
      "7   2\n",
      "@\n",
      "  d\n",
      "ok\n",
      "P\n",
      "3   0\n",
      "ok1\n",
      "3   0\n",
      "P\n",
      "  .\n",
      "ok\n",
      "X\n",
      "6   6\n",
      "ok2\n",
      "6   6\n",
      "X\n",
      "   \n",
      " \n",
      "  A\n",
      "ok\n",
      "v\n",
      "5   5\n",
      "ok3\n",
      "6   5\n",
      "w\n",
      "  l\n",
      "ok\n",
      "4\n",
      "1   5\n",
      "ok1\n",
      "1   5\n",
      "4\n",
      "  i\n",
      "ok\n",
      "\"\n",
      "2   4\n",
      "ok2\n",
      "2   4\n",
      "\"\n",
      "  f\n",
      "ok\n",
      "n\n",
      "0   6\n",
      "ok3\n",
      "1   6\n",
      "o\n",
      "   \n",
      " \n",
      "  H\n",
      "ok\n",
      "y\n",
      "8   4\n",
      "ok1\n",
      "8   4\n",
      "y\n",
      "  o\n",
      "ok\n",
      "g\n",
      "2   5\n",
      "ok2\n",
      "2   5\n",
      "g\n",
      "  s\n",
      "ok\n",
      "T\n",
      "9   4\n",
      "ok3\n",
      "0   4\n",
      "Y\n",
      "  s\n",
      "ok\n",
      "T\n",
      "9   4\n",
      "ok1\n",
      "9   4\n",
      "T\n",
      "  a\n",
      "ok\n",
      "M\n",
      "5   3\n",
      "ok2\n",
      "5   3\n",
      "M\n",
      "  i\n",
      "ok\n",
      "\"\n",
      "2   4\n",
      "ok3\n",
      "3   4\n",
      "*\n",
      "  n\n",
      "ok\n",
      "W\n",
      "0   7\n",
      "ok1\n",
      "0   7\n",
      "W\n",
      "   \n",
      " \n",
      "  P\n",
      "ok\n",
      "~\n",
      "4   0\n",
      "ok2\n",
      "4   0\n",
      "~\n",
      "  r\n",
      "ok\n",
      "f\n",
      "7   7\n",
      "ok3\n",
      "8   7\n",
      "s\n",
      "  i\n",
      "ok\n",
      "\"\n",
      "2   4\n",
      "ok1\n",
      "2   4\n",
      "\"\n",
      "  n\n",
      "ok\n",
      "W\n",
      "0   7\n",
      "ok2\n",
      "0   7\n",
      "W\n",
      "  c\n",
      "ok\n",
      "5\n",
      "0   0\n",
      "ok3\n",
      "1   0\n",
      "2\n",
      "  e\n",
      "ok\n",
      "E\n",
      "3   6\n",
      "ok1\n",
      "3   6\n",
      "E\n",
      "   \n",
      " \n",
      "  &\n",
      "ok\n",
      "o\n",
      "1   6\n",
      "ok2\n",
      "1   6\n",
      "o\n",
      "   \n",
      " \n",
      "  M\n",
      "ok\n",
      "0\n",
      "6   2\n",
      "ok3\n",
      "7   2\n",
      "@\n",
      "  d\n",
      "ok\n",
      "P\n",
      "3   0\n",
      "ok1\n",
      "3   0\n",
      "P\n",
      "  .\n",
      "ok\n",
      "X\n",
      "6   6\n",
      "ok2\n",
      "6   6\n",
      "X\n",
      "   \n",
      " \n",
      "  A\n",
      "ok\n",
      "v\n",
      "5   5\n",
      "ok3\n",
      "6   5\n",
      "w\n",
      "  b\n",
      "ok\n",
      "!\n",
      "9   2\n",
      "ok1\n",
      "9   2\n",
      "!\n",
      "  u\n",
      "ok\n",
      ")\n",
      "9   7\n",
      "ok2\n",
      "9   7\n",
      ")\n",
      "   \n",
      " \n",
      "  S\n",
      "ok\n",
      "2\n",
      "1   0\n",
      "ok3\n",
      "2   0\n",
      "O\n",
      "  a\n",
      "ok\n",
      "M\n",
      "5   3\n",
      "ok1\n",
      "5   3\n",
      "M\n",
      "  m\n",
      "ok\n",
      "C\n",
      "3   2\n",
      "ok2\n",
      "3   2\n",
      "C\n",
      "  a\n",
      "ok\n",
      "M\n",
      "5   3\n",
      "ok3\n",
      "6   3\n",
      "k\n"
     ]
    },
    {
     "data": {
      "text/plain": [
       "'0Xw 0gUME; t>kW o @PX w4\"o ygYTM*W ~s\"W2E o @PX w!) OMCk'"
      ]
     },
     "execution_count": 121,
     "metadata": {},
     "output_type": "execute_result"
    }
   ],
   "source": [
    "new_msg = ''\n",
    "rules = 0\n",
    "for i in list('M.A Monaem Khan & Md. Alif Hossain Prince & Md. Abu Sama'):\n",
    "    print(\" \",i)\n",
    "    try:\n",
    "        index = char_list.index(i)\n",
    "        new_index = index+key_1\n",
    "        if new_index>=90:\n",
    "            print('ok')\n",
    "            new_index = new_index - 90\n",
    "            ch = char_list[new_index]\n",
    "        else:\n",
    "            print('ok')\n",
    "            ch = char_list[new_index]\n",
    "        print(ch)\n",
    "\n",
    "        ll = np.where(update_diagram == ch)\n",
    "        row = ll[0][0]\n",
    "        col = ll[1][0]\n",
    "        print(row,\" \",col)\n",
    "\n",
    "        if rules == 0:\n",
    "            print('ok1')\n",
    "            col_pos = col+key_1\n",
    "            if col_pos>=9:\n",
    "                print(row,\" \",col_pos-9)\n",
    "                print(update_diagram[row][col_pos-9])\n",
    "                new_msg = new_msg + update_diagram[row][col_pos-9]\n",
    "            else:  \n",
    "                print(row,\" \",col+key_1)\n",
    "                print(update_diagram[row][col_pos])\n",
    "                new_msg = new_msg + update_diagram[row][col_pos]\n",
    "            rules = rules+1\n",
    "\n",
    "        elif rules == 1:\n",
    "            print('ok2')\n",
    "            col_pos = col-key_1\n",
    "            if col_pos<0:\n",
    "                print(row,\" \",col_pos+9)\n",
    "                print(update_diagram[row][col_pos+9])\n",
    "                new_msg = new_msg + update_diagram[row][col_pos+9]\n",
    "            else:  \n",
    "                print(row,\" \",col-key_1)\n",
    "                print(update_diagram[row][col_pos])\n",
    "                new_msg = new_msg + update_diagram[row][col_pos]\n",
    "            rules = rules+1\n",
    "\n",
    "        else:\n",
    "            print('ok3')\n",
    "            row_pos = row-key_1\n",
    "            if row_pos<0:\n",
    "                print(row_pos+10,\" \",col)\n",
    "                print(update_diagram[row_pos+10][col])\n",
    "                new_msg = new_msg + update_diagram[row_pos+10][col]\n",
    "            else:\n",
    "                print(row_pos,\" \",col)\n",
    "                print(update_diagram[row_pos][col])\n",
    "                new_msg = new_msg + update_diagram[row_pos][col]\n",
    "            rules = 0\n",
    "    except:\n",
    "        print(i)\n",
    "        new_msg = new_msg + i\n",
    "new_msg"
   ]
  },
  {
   "cell_type": "code",
   "execution_count": 41,
   "id": "048fbe47",
   "metadata": {},
   "outputs": [
    {
     "name": "stdout",
     "output_type": "stream",
     "text": [
      "['o', 'U', ':', 'O', 'd', 'I', 'm', '\"', 'N', 'g', 'e', '1', 'q', 'P', '+', 'C', 'L', '*', 'p', 'E', 'R', '(', '~', '/', ';', '8', '$', 'a', 'l', 'J', 'A', 'Z', 'B', 'G', ']', '-', 'M', '4', '<', 'v', \"'\", ',', '.', '6', '}', '0', 'x', 'k', 'h', 'w', 'F', 'X', 'r', '?', 'z', '{', '@', '>', 'D', '3', 'H', 'f', 'Q', '^', '[', 'K', '7', 'c', 'j', 'y', 'n', 'b', '=', 's', 't', 'S', '5', 'u', 'Y', 'W', '!', '&', 'T', '%', '2', '_', ')', 'V', 'i', '9']\n"
     ]
    }
   ],
   "source": [
    "print(char_list)"
   ]
  },
  {
   "cell_type": "code",
   "execution_count": 42,
   "id": "6ab95f34",
   "metadata": {},
   "outputs": [
    {
     "data": {
      "text/plain": [
       "12"
      ]
     },
     "execution_count": 42,
     "metadata": {},
     "output_type": "execute_result"
    }
   ],
   "source": [
    "txt = \"Monaem Khann\"\n",
    "len(txt)"
   ]
  },
  {
   "cell_type": "code",
   "execution_count": 43,
   "id": "860b088a",
   "metadata": {},
   "outputs": [
    {
     "data": {
      "text/plain": [
       "6"
      ]
     },
     "execution_count": 43,
     "metadata": {},
     "output_type": "execute_result"
    }
   ],
   "source": [
    "mid = int(len(txt)/2)\n",
    "mid"
   ]
  },
  {
   "cell_type": "code",
   "execution_count": 44,
   "id": "7be2d61c",
   "metadata": {},
   "outputs": [
    {
     "data": {
      "text/plain": [
       "'Monaem'"
      ]
     },
     "execution_count": 44,
     "metadata": {},
     "output_type": "execute_result"
    }
   ],
   "source": [
    "part_1 = txt[0:6]\n",
    "part_1"
   ]
  },
  {
   "cell_type": "code",
   "execution_count": 45,
   "id": "f24063b9",
   "metadata": {},
   "outputs": [
    {
     "data": {
      "text/plain": [
       "' Khann'"
      ]
     },
     "execution_count": 45,
     "metadata": {},
     "output_type": "execute_result"
    }
   ],
   "source": [
    "part_2 = txt[6:]\n",
    "part_2"
   ]
  },
  {
   "cell_type": "code",
   "execution_count": 46,
   "id": "f05ef4d2",
   "metadata": {},
   "outputs": [
    {
     "data": {
      "text/plain": [
       "'Monaem jk Khann'"
      ]
     },
     "execution_count": 46,
     "metadata": {},
     "output_type": "execute_result"
    }
   ],
   "source": [
    "mid_part = ' jk'\n",
    "main_txt = part_1+mid_part+part_2\n",
    "main_txt"
   ]
  },
  {
   "cell_type": "code",
   "execution_count": 47,
   "id": "a76c9041",
   "metadata": {},
   "outputs": [
    {
     "data": {
      "text/plain": [
       "12"
      ]
     },
     "execution_count": 47,
     "metadata": {},
     "output_type": "execute_result"
    }
   ],
   "source": [
    "len(main_txt)-3"
   ]
  },
  {
   "cell_type": "code",
   "execution_count": 48,
   "id": "34a38e4e",
   "metadata": {},
   "outputs": [
    {
     "data": {
      "text/plain": [
       "' jk'"
      ]
     },
     "execution_count": 48,
     "metadata": {},
     "output_type": "execute_result"
    }
   ],
   "source": [
    "main_txt[6:9]"
   ]
  },
  {
   "cell_type": "code",
   "execution_count": 49,
   "id": "5b31302c",
   "metadata": {},
   "outputs": [
    {
     "data": {
      "text/plain": [
       "'Monae'"
      ]
     },
     "execution_count": 49,
     "metadata": {},
     "output_type": "execute_result"
    }
   ],
   "source": [
    "main_txt[:5]"
   ]
  },
  {
   "cell_type": "code",
   "execution_count": 50,
   "id": "2a7b430b",
   "metadata": {},
   "outputs": [
    {
     "data": {
      "text/plain": [
       "'k Khann'"
      ]
     },
     "execution_count": 50,
     "metadata": {},
     "output_type": "execute_result"
    }
   ],
   "source": [
    "main_txt[8:]"
   ]
  },
  {
   "cell_type": "code",
   "execution_count": 51,
   "id": "d9dd641b",
   "metadata": {},
   "outputs": [
    {
     "data": {
      "text/plain": [
       "' j'"
      ]
     },
     "execution_count": 51,
     "metadata": {},
     "output_type": "execute_result"
    }
   ],
   "source": [
    "main_txt[6:8]"
   ]
  },
  {
   "cell_type": "code",
   "execution_count": 52,
   "id": "184266bf",
   "metadata": {},
   "outputs": [
    {
     "name": "stdout",
     "output_type": "stream",
     "text": [
      "Monae\n",
      "m Khan\n"
     ]
    }
   ],
   "source": [
    "message = 'Monaem Khan'\n",
    "length = int(len(message)/2)\n",
    "part_1 =  message[:length]\n",
    "part_2 = message[length:]\n",
    "print(part_1)\n",
    "print(part_2)"
   ]
  },
  {
   "cell_type": "code",
   "execution_count": 53,
   "id": "faeb9d52",
   "metadata": {},
   "outputs": [
    {
     "name": "stdout",
     "output_type": "stream",
     "text": [
      "asdfgh\n",
      "jklz\n",
      "xcvbnm\n"
     ]
    }
   ],
   "source": [
    "kk = 'asdfghjklzxcvbnm'\n",
    "print(kk[:6])\n",
    "print(kk[6:10])\n",
    "print(kk[10:])"
   ]
  },
  {
   "cell_type": "code",
   "execution_count": 54,
   "id": "f7760dff",
   "metadata": {},
   "outputs": [
    {
     "data": {
      "text/plain": [
       "'xcvbnmMonaeasdfghm Khanjklz'"
      ]
     },
     "execution_count": 54,
     "metadata": {},
     "output_type": "execute_result"
    }
   ],
   "source": [
    "form = kk[10:]+part_1+kk[:6]+part_2+kk[6:10]\n",
    "form"
   ]
  },
  {
   "cell_type": "code",
   "execution_count": 55,
   "id": "3d0c5074",
   "metadata": {},
   "outputs": [],
   "source": [
    "length = int((len(form)-16)/2)"
   ]
  },
  {
   "cell_type": "code",
   "execution_count": 56,
   "id": "fac779c8",
   "metadata": {},
   "outputs": [
    {
     "data": {
      "text/plain": [
       "'xcvbnm'"
      ]
     },
     "execution_count": 56,
     "metadata": {},
     "output_type": "execute_result"
    }
   ],
   "source": [
    "last = form[:6]\n",
    "last"
   ]
  },
  {
   "cell_type": "code",
   "execution_count": 57,
   "id": "4f76b9c3",
   "metadata": {},
   "outputs": [
    {
     "data": {
      "text/plain": [
       "'Monae'"
      ]
     },
     "execution_count": 57,
     "metadata": {},
     "output_type": "execute_result"
    }
   ],
   "source": [
    "ln = 6+length\n",
    "part_1 = form[6:ln]\n",
    "part_1"
   ]
  },
  {
   "cell_type": "code",
   "execution_count": 58,
   "id": "ea4334fb",
   "metadata": {},
   "outputs": [
    {
     "name": "stdout",
     "output_type": "stream",
     "text": [
      "17\n"
     ]
    },
    {
     "data": {
      "text/plain": [
       "'asdfgh'"
      ]
     },
     "execution_count": 58,
     "metadata": {},
     "output_type": "execute_result"
    }
   ],
   "source": [
    "first = form[ln:(ln+6)]\n",
    "ln = ln+6\n",
    "print(ln)\n",
    "first"
   ]
  },
  {
   "cell_type": "code",
   "execution_count": 59,
   "id": "45fdb4a6",
   "metadata": {},
   "outputs": [
    {
     "data": {
      "text/plain": [
       "'jklz'"
      ]
     },
     "execution_count": 59,
     "metadata": {},
     "output_type": "execute_result"
    }
   ],
   "source": [
    "lnn = ((len(form)-4))\n",
    "mid = form[lnn:]\n",
    "mid"
   ]
  },
  {
   "cell_type": "code",
   "execution_count": 60,
   "id": "1a2f8736",
   "metadata": {},
   "outputs": [
    {
     "data": {
      "text/plain": [
       "'m Khan'"
      ]
     },
     "execution_count": 60,
     "metadata": {},
     "output_type": "execute_result"
    }
   ],
   "source": [
    "part_2 = form[ln:lnn]\n",
    "part_2"
   ]
  },
  {
   "cell_type": "code",
   "execution_count": 111,
   "id": "77f84f74",
   "metadata": {},
   "outputs": [],
   "source": [
    "def call(ch):\n",
    "    print('ok')\n",
    "    index = char_list.index(ch)\n",
    "    new_index = index-key_1\n",
    "    if new_index<0:\n",
    "        new_index = new_index + 90\n",
    "        print(\"if - \",char_list[new_index])\n",
    "        return char_list[new_index]\n",
    "    else:\n",
    "        print(\"else - \",char_list[new_index])\n",
    "        return char_list[new_index]"
   ]
  },
  {
   "cell_type": "code",
   "execution_count": 122,
   "id": "3ca9ff31",
   "metadata": {},
   "outputs": [
    {
     "name": "stdout",
     "output_type": "stream",
     "text": [
      "  0\n",
      "0\n",
      "6   2\n",
      "ok1\n",
      "ok\n",
      "else -  M\n",
      "  X\n",
      "X\n",
      "6   6\n",
      "ok2\n",
      "ok\n",
      "else -  .\n",
      "  w\n",
      "w\n",
      "6   5\n",
      "ok\n",
      "else -  A\n",
      "   \n",
      " \n",
      "ex -   \n",
      "  0\n",
      "0\n",
      "6   2\n",
      "ok1\n",
      "ok\n",
      "else -  M\n",
      "  g\n",
      "g\n",
      "2   5\n",
      "ok2\n",
      "ok\n",
      "else -  o\n",
      "  U\n",
      "U\n",
      "1   7\n",
      "ok\n",
      "else -  n\n",
      "  M\n",
      "M\n",
      "5   3\n",
      "ok1\n",
      "ok\n",
      "else -  a\n",
      "  E\n",
      "E\n",
      "3   6\n",
      "ok2\n",
      "ok\n",
      "else -  e\n",
      "  ;\n",
      ";\n",
      "4   2\n",
      "ok\n",
      "else -  m\n",
      "   \n",
      " \n",
      "ex -   \n",
      "  t\n",
      "t\n",
      "8   8\n",
      "ok1\n",
      "ok\n",
      "else -  K\n",
      "  >\n",
      ">\n",
      "7   3\n",
      "ok2\n",
      "ok\n",
      "else -  h\n",
      "  k\n",
      "k\n",
      "6   3\n",
      "ok\n",
      "else -  a\n",
      "  W\n",
      "W\n",
      "0   7\n",
      "ok1\n",
      "ok\n",
      "else -  n\n",
      "   \n",
      " \n",
      "ex -   \n",
      "  o\n",
      "o\n",
      "1   6\n",
      "ok2\n",
      "ok\n",
      "if -  &\n",
      "   \n",
      " \n",
      "ex -   \n",
      "  @\n",
      "@\n",
      "7   2\n",
      "ok\n",
      "else -  M\n",
      "  P\n",
      "P\n",
      "3   0\n",
      "ok1\n",
      "ok\n",
      "else -  d\n",
      "  X\n",
      "X\n",
      "6   6\n",
      "ok2\n",
      "ok\n",
      "else -  .\n",
      "   \n",
      " \n",
      "ex -   \n",
      "  w\n",
      "w\n",
      "6   5\n",
      "ok\n",
      "else -  A\n",
      "  4\n",
      "4\n",
      "1   5\n",
      "ok1\n",
      "ok\n",
      "else -  l\n",
      "  \"\n",
      "\"\n",
      "2   4\n",
      "ok2\n",
      "ok\n",
      "if -  i\n",
      "  o\n",
      "o\n",
      "1   6\n",
      "ok\n",
      "else -  f\n",
      "   \n",
      " \n",
      "ex -   \n",
      "  y\n",
      "y\n",
      "8   4\n",
      "ok1\n",
      "ok\n",
      "else -  H\n",
      "  g\n",
      "g\n",
      "2   5\n",
      "ok2\n",
      "ok\n",
      "else -  o\n",
      "  Y\n",
      "Y\n",
      "0   4\n",
      "ok\n",
      "else -  s\n",
      "  T\n",
      "T\n",
      "9   4\n",
      "ok1\n",
      "ok\n",
      "else -  s\n",
      "  M\n",
      "M\n",
      "5   3\n",
      "ok2\n",
      "ok\n",
      "else -  a\n",
      "  *\n",
      "*\n",
      "3   4\n",
      "ok\n",
      "if -  i\n",
      "  W\n",
      "W\n",
      "0   7\n",
      "ok1\n",
      "ok\n",
      "else -  n\n",
      "   \n",
      " \n",
      "ex -   \n",
      "  ~\n",
      "~\n",
      "4   0\n",
      "ok2\n",
      "ex -  ~\n",
      "  s\n",
      "s\n",
      "8   7\n",
      "ok2\n",
      "ok\n",
      "else -  [\n",
      "  \"\n",
      "\"\n",
      "2   4\n",
      "ok\n",
      "else -  W\n",
      "  W\n",
      "W\n",
      "0   7\n",
      "ok1\n",
      "ok\n",
      "else -  n\n",
      "  2\n",
      "2\n",
      "1   0\n",
      "ok2\n",
      "ex -  2\n",
      "  E\n",
      "E\n",
      "3   6\n",
      "ok2\n",
      "ok\n",
      "else -  e\n",
      "   \n",
      " \n",
      "ex -   \n",
      "  o\n",
      "o\n",
      "1   6\n",
      "ok\n",
      "else -  f\n",
      "   \n",
      " \n",
      "ex -   \n",
      "  @\n",
      "@\n",
      "7   2\n",
      "ok1\n",
      "ok\n",
      "else -  k\n",
      "  P\n",
      "P\n",
      "3   0\n",
      "ok2\n",
      "ex -  P\n",
      "  X\n",
      "X\n",
      "6   6\n",
      "ok2\n",
      "ok\n",
      "else -  .\n",
      "   \n",
      " \n",
      "ex -   \n",
      "  w\n",
      "w\n",
      "6   5\n",
      "ok\n",
      "else -  A\n",
      "  !\n",
      "!\n",
      "9   2\n",
      "ok1\n",
      "ok\n",
      "else -  b\n",
      "  )\n",
      ")\n",
      "9   7\n",
      "ok2\n",
      "ok\n",
      "else -  u\n",
      "   \n",
      " \n",
      "ex -   \n",
      "  O\n",
      "O\n",
      "2   0\n",
      "ok\n",
      "else -  S\n",
      "  M\n",
      "M\n",
      "5   3\n",
      "ok1\n",
      "ok\n",
      "else -  a\n",
      "  C\n",
      "C\n",
      "3   2\n",
      "ok2\n",
      "ok\n",
      "else -  m\n",
      "  k\n",
      "k\n",
      "6   3\n",
      "ok\n",
      "else -  a\n"
     ]
    },
    {
     "data": {
      "text/plain": [
       "'M.A Monaem Khan & Md. Alif Hossain ~[Wn2e f kP. Abu Sama'"
      ]
     },
     "execution_count": 122,
     "metadata": {},
     "output_type": "execute_result"
    }
   ],
   "source": [
    "new_msg = ''\n",
    "rules = 0\n",
    "for i in list('0Xw 0gUME; t>kW o @PX w4\"o ygYTM*W ~s\"W2E o @PX w!) OMCk'):\n",
    "    print(\" \",i)\n",
    "    try:\n",
    "        print(i)\n",
    "        ll = np.where(update_diagram == i)\n",
    "        row = ll[0][0]\n",
    "        col = ll[1][0]\n",
    "        print(row,\" \",col)\n",
    "\n",
    "        if rules == 0:\n",
    "            print('ok1')\n",
    "            col_pos = col-key_1\n",
    "            if col_pos<0:\n",
    "#                 print(row,\" \",col_pos+9)\n",
    "#                 print(update_diagram[row][col_pos+9])\n",
    "                ch =  update_diagram[row][col_pos+9]\n",
    "            else:  \n",
    "#                 print(row,\" \",col_pos)\n",
    "#                 print(update_diagram[row][col_pos])\n",
    "                ch =  update_diagram[row][col_pos]\n",
    "            new_msg = new_msg + call(ch)\n",
    "            rules = rules+1\n",
    "\n",
    "        elif rules == 1:\n",
    "            print('ok2')\n",
    "            col_pos = col+key_1\n",
    "            if col_pos>9:\n",
    "#                 print(row,\" \",col_pos-9)\n",
    "#                 print(update_diagram[row][col_pos-9])\n",
    "                ch = update_diagram[row][col_pos-9]\n",
    "            else:  \n",
    "#                 print(row,\" \",col+key_1)\n",
    "#                 print(update_diagram[row][col_pos])\n",
    "                ch = update_diagram[row][col_pos]\n",
    "            new_msg = new_msg + call(ch)\n",
    "            rules = rules+1\n",
    "\n",
    "        else:\n",
    "            row_pos = row+key_1\n",
    "            if row_pos>=10:\n",
    "                ch = update_diagram[row_pos-10][col]\n",
    "            else:\n",
    "#                 print(row_pos,\" \",col)\n",
    "#                 print(update_diagram[row_pos][col])\n",
    "                ch = update_diagram[row_pos][col]\n",
    "            new_msg = new_msg + call(ch)\n",
    "            rules = 0\n",
    "    except:\n",
    "        print(\"ex - \",i)\n",
    "        new_msg = new_msg + i\n",
    "new_msg"
   ]
  },
  {
   "cell_type": "code",
   "execution_count": 85,
   "id": "d8efea13",
   "metadata": {},
   "outputs": [],
   "source": [
    "ll = np.where(update_diagram == 'U')\n",
    "row = ll[0][0]\n",
    "col = ll[1][0]"
   ]
  },
  {
   "cell_type": "code",
   "execution_count": 86,
   "id": "5b36df06",
   "metadata": {},
   "outputs": [
    {
     "data": {
      "text/plain": [
       "1"
      ]
     },
     "execution_count": 86,
     "metadata": {},
     "output_type": "execute_result"
    }
   ],
   "source": [
    "row"
   ]
  },
  {
   "cell_type": "code",
   "execution_count": 87,
   "id": "5196b8c3",
   "metadata": {},
   "outputs": [
    {
     "data": {
      "text/plain": [
       "7"
      ]
     },
     "execution_count": 87,
     "metadata": {},
     "output_type": "execute_result"
    }
   ],
   "source": [
    "col"
   ]
  },
  {
   "cell_type": "code",
   "execution_count": 99,
   "id": "f265e2e4",
   "metadata": {},
   "outputs": [
    {
     "data": {
      "text/plain": [
       "1"
      ]
     },
     "execution_count": 99,
     "metadata": {},
     "output_type": "execute_result"
    }
   ],
   "source": [
    "char_list.index('U')"
   ]
  },
  {
   "cell_type": "code",
   "execution_count": 106,
   "id": "6f6c3ba0",
   "metadata": {},
   "outputs": [
    {
     "data": {
      "text/plain": [
       "array([['5', 'N', '7', 'B', 'Y', 'K', 'n', 'W', 'Z'],\n",
       "       ['2', 'F', '9', 'x', 'i', '4', 'o', 'U', ':'],\n",
       "       ['O', 'd', 'I', 'm', '\"', 'g', 'e', '1', 'q'],\n",
       "       ['P', '+', 'C', 'L', '*', 'p', 'E', 'R', '('],\n",
       "       ['~', '/', ';', '8', '$', 'a', 'l', 'J', 'A'],\n",
       "       ['G', ']', '-', 'M', '<', 'v', \"'\", ',', '.'],\n",
       "       ['6', '}', '0', 'k', 'h', 'w', 'X', 'r', '?'],\n",
       "       ['z', '{', '@', '>', 'D', '3', 'H', 'f', 'Q'],\n",
       "       ['^', '[', 'c', 'j', 'y', 'b', '=', 's', 't'],\n",
       "       ['S', 'u', '!', '&', 'T', '%', '_', ')', 'V']], dtype='<U1')"
      ]
     },
     "execution_count": 106,
     "metadata": {},
     "output_type": "execute_result"
    }
   ],
   "source": [
    "update_diagram"
   ]
  },
  {
   "cell_type": "code",
   "execution_count": 162,
   "id": "410b2906",
   "metadata": {},
   "outputs": [],
   "source": [
    "with open(\"readme.txt\",'r') as f:\n",
    "    F = f.read()"
   ]
  },
  {
   "cell_type": "code",
   "execution_count": 166,
   "id": "0ad32693",
   "metadata": {},
   "outputs": [],
   "source": [
    "F=F[7:]"
   ]
  },
  {
   "cell_type": "code",
   "execution_count": 169,
   "id": "a9115009",
   "metadata": {},
   "outputs": [],
   "source": [
    "with open(\"save.txt\",'w') as f:\n",
    "    f.write(F)"
   ]
  },
  {
   "cell_type": "code",
   "execution_count": 160,
   "id": "f7548a99",
   "metadata": {},
   "outputs": [
    {
     "name": "stdout",
     "output_type": "stream",
     "text": [
      "<class 'str'>\n"
     ]
    }
   ],
   "source": [
    "x = \"hello\\nhi\\n\"\n",
    "print(type(x))\n",
    "text_file = open(\"./save.txt\",'w',encoding='utf8')\n",
    "text_file.write(x)\n",
    "text_file.close()"
   ]
  },
  {
   "cell_type": "code",
   "execution_count": 168,
   "id": "c1bcfb55",
   "metadata": {},
   "outputs": [
    {
     "ename": "PermissionError",
     "evalue": "[WinError 32] The process cannot access the file because it is being used by another process: 'readme.txt'",
     "output_type": "error",
     "traceback": [
      "\u001b[1;31m---------------------------------------------------------------------------\u001b[0m",
      "\u001b[1;31mPermissionError\u001b[0m                           Traceback (most recent call last)",
      "Input \u001b[1;32mIn [168]\u001b[0m, in \u001b[0;36m<cell line: 2>\u001b[1;34m()\u001b[0m\n\u001b[0;32m      1\u001b[0m \u001b[38;5;28;01mimport\u001b[39;00m \u001b[38;5;21;01mos\u001b[39;00m\n\u001b[0;32m      2\u001b[0m \u001b[38;5;28;01mif\u001b[39;00m os\u001b[38;5;241m.\u001b[39mpath\u001b[38;5;241m.\u001b[39mexists(\u001b[38;5;124m\"\u001b[39m\u001b[38;5;124mreadme.txt\u001b[39m\u001b[38;5;124m\"\u001b[39m):\n\u001b[1;32m----> 3\u001b[0m     \u001b[43mos\u001b[49m\u001b[38;5;241;43m.\u001b[39;49m\u001b[43mremove\u001b[49m\u001b[43m(\u001b[49m\u001b[38;5;124;43m\"\u001b[39;49m\u001b[38;5;124;43mreadme.txt\u001b[39;49m\u001b[38;5;124;43m\"\u001b[39;49m\u001b[43m)\u001b[49m\n\u001b[0;32m      4\u001b[0m \u001b[38;5;28;01melse\u001b[39;00m:\n\u001b[0;32m      5\u001b[0m     \u001b[38;5;28mprint\u001b[39m(\u001b[38;5;124m\"\u001b[39m\u001b[38;5;124mThe file does not exist\u001b[39m\u001b[38;5;124m\"\u001b[39m)\n",
      "\u001b[1;31mPermissionError\u001b[0m: [WinError 32] The process cannot access the file because it is being used by another process: 'readme.txt'"
     ]
    }
   ],
   "source": [
    "import os\n",
    "if os.path.exists(\"readme.txt\"):\n",
    "    os.remove(\"readme.txt\")\n",
    "else:\n",
    "    print(\"The file does not exist\")"
   ]
  },
  {
   "cell_type": "code",
   "execution_count": 177,
   "id": "ce4cb509",
   "metadata": {},
   "outputs": [
    {
     "data": {
      "text/plain": [
       "'Hi How Are You\\nI am M.A Monaem Khan\\nMy teamates are Md. Alif Hossain Prince and Md. Abu Sama'"
      ]
     },
     "execution_count": 177,
     "metadata": {},
     "output_type": "execute_result"
    }
   ],
   "source": [
    "with open(\"C:/Users/khanm/OneDrive/Desktop/test message.txt\",'r') as f:\n",
    "    F = f.read()\n",
    "F"
   ]
  },
  {
   "cell_type": "code",
   "execution_count": 201,
   "id": "8317fcd2",
   "metadata": {},
   "outputs": [
    {
     "name": "stdout",
     "output_type": "stream",
     "text": [
      "Enter a file path: C:/Users/khanm/OneDrive/Desktop/test message.txt\n",
      "C:/Users/khanm/OneDrive/Desktop/test message.txt\n",
      "The file exists\n",
      "Hi How Are You\n",
      "I am M.A Monaem Khan\n",
      "My teamates are Md. Alif Hossain Prince and Md. Abu Sama\n"
     ]
    }
   ],
   "source": [
    "file_path = input('Enter a file path: ')\n",
    "print(file_path)\n",
    "if os.path.exists(file_path):\n",
    "    print('The file exists')\n",
    "    with open(file_path, 'r', encoding='utf-8-sig') as f:\n",
    "        lines = f.read()\n",
    "        print(lines)\n",
    "    f.close()\n",
    "else:\n",
    "    print('The specified file does NOT exist')"
   ]
  },
  {
   "cell_type": "code",
   "execution_count": 208,
   "id": "75b88824",
   "metadata": {},
   "outputs": [
    {
     "data": {
      "text/plain": [
       "str"
      ]
     },
     "execution_count": 208,
     "metadata": {},
     "output_type": "execute_result"
    }
   ],
   "source": [
    "type(lines)"
   ]
  },
  {
   "cell_type": "code",
   "execution_count": 202,
   "id": "79f88f76",
   "metadata": {},
   "outputs": [
    {
     "data": {
      "text/plain": [
       "'C:/Users/khanm/OneDrive/Desktop/test message.txt'"
      ]
     },
     "execution_count": 202,
     "metadata": {},
     "output_type": "execute_result"
    }
   ],
   "source": [
    "file_path"
   ]
  },
  {
   "cell_type": "code",
   "execution_count": 203,
   "id": "a6651e19",
   "metadata": {},
   "outputs": [
    {
     "data": {
      "text/plain": [
       "31"
      ]
     },
     "execution_count": 203,
     "metadata": {},
     "output_type": "execute_result"
    }
   ],
   "source": [
    "last_pos = 0\n",
    "for i in range(len(file_path)):\n",
    "    if file_path[i] == '/':\n",
    "        last_pos = i\n",
    "last_pos"
   ]
  },
  {
   "cell_type": "code",
   "execution_count": 204,
   "id": "a9089572",
   "metadata": {},
   "outputs": [
    {
     "data": {
      "text/plain": [
       "'C:/Users/khanm/OneDrive/Desktop/'"
      ]
     },
     "execution_count": 204,
     "metadata": {},
     "output_type": "execute_result"
    }
   ],
   "source": [
    "path = file_path[:32]\n",
    "path"
   ]
  },
  {
   "cell_type": "code",
   "execution_count": 205,
   "id": "e6278423",
   "metadata": {},
   "outputs": [],
   "source": [
    "with open(path+'/try.txt','w') as f:\n",
    "    f.write('Hi')"
   ]
  },
  {
   "cell_type": "code",
   "execution_count": 207,
   "id": "167e25c2",
   "metadata": {},
   "outputs": [],
   "source": [
    "if os.path.exists(path+'/test message.txt'):\n",
    "    os.remove(path+'/test message.txt')\n",
    "else:\n",
    "    print(\"The file does not exist\")"
   ]
  },
  {
   "cell_type": "code",
   "execution_count": 210,
   "id": "9e7468de",
   "metadata": {},
   "outputs": [
    {
     "data": {
      "text/plain": [
       "'test message.txt'"
      ]
     },
     "execution_count": 210,
     "metadata": {},
     "output_type": "execute_result"
    }
   ],
   "source": [
    "file_path[last_pos+1:]"
   ]
  },
  {
   "cell_type": "code",
   "execution_count": null,
   "id": "2cb1d03a",
   "metadata": {},
   "outputs": [],
   "source": []
  }
 ],
 "metadata": {
  "kernelspec": {
   "display_name": "Python 3 (ipykernel)",
   "language": "python",
   "name": "python3"
  },
  "language_info": {
   "codemirror_mode": {
    "name": "ipython",
    "version": 3
   },
   "file_extension": ".py",
   "mimetype": "text/x-python",
   "name": "python",
   "nbconvert_exporter": "python",
   "pygments_lexer": "ipython3",
   "version": "3.9.12"
  }
 },
 "nbformat": 4,
 "nbformat_minor": 5
}
